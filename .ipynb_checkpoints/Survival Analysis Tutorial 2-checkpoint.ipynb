{
 "cells": [
  {
   "cell_type": "code",
   "execution_count": 1,
   "metadata": {},
   "outputs": [],
   "source": [
    "from lifelines.plotting import plot_lifetimes\n",
    "import numpy as np\n",
    "from numpy.random import uniform, exponential"
   ]
  },
  {
   "cell_type": "markdown",
   "metadata": {},
   "source": [
    "### Survival Analysis:\n",
    "1. Predict the duration of employment?\n",
    "2. \"Birth\" = an employee joins the company\n",
    "   \"Death\" = an employee leaved the company\n",
    "3. We don't want to wait until an employee has left the company. We need to make decisions now. \n",
    "4. Employees who have not left the company = 'right-censored'"
   ]
  },
  {
   "cell_type": "code",
   "execution_count": 6,
   "metadata": {},
   "outputs": [],
   "source": [
    "N = 25\n",
    "\n",
    "CURRENT_TIME = 10\n",
    "\n",
    "actual_lifetimes = np.array([\n",
    "    exponential(12) if (uniform() < 0.5) else \n",
    "    exponential(2) for i in range(N)\n",
    "])"
   ]
  },
  {
   "cell_type": "code",
   "execution_count": 15,
   "metadata": {},
   "outputs": [],
   "source": [
    "observed_lifetimes = np.minimum(actual_lifetimes, CURRENT_TIME)\n",
    "death_observed = actual_lifetimes < CURRENT_TIME"
   ]
  },
  {
   "cell_type": "code",
   "execution_count": 17,
   "metadata": {},
   "outputs": [
    {
     "data": {
      "text/plain": [
       "Text(0.5, 1.0, 'Biryjs and deaths of our population at $t=10$')"
      ]
     },
     "execution_count": 17,
     "metadata": {},
     "output_type": "execute_result"
    },
    {
     "data": {
      "image/png": "[encoded data removed]",
      "text/plain": [
       "<Figure size 432x288 with 1 Axes>"
      ]
     },
     "metadata": {
      "needs_background": "light"
     },
     "output_type": "display_data"
    }
   ],
   "source": [
    "ax = plot_lifetimes(observed_lifetimes, event_observed=death_observed)\n",
    "\n",
    "ax.set_xlim(0, 25)\n",
    "ax.vlines(10, 0, 30, lw=2, linestyles='--')\n",
    "ax.set_label('time')\n",
    "ax.set_title('Births and deaths of our population at $t=10$')"
   ]
  },
  {
   "cell_type": "code",
   "execution_count": null,
   "metadata": {},
   "outputs": [],
   "source": []
  }
 ],
 "metadata": {
  "kernelspec": {
   "display_name": "Python 3",
   "language": "python",
   "name": "python3"
  },
  "language_info": {
   "codemirror_mode": {
    "name": "ipython",
    "version": 3
   },
   "file_extension": ".py",
   "mimetype": "text/x-python",
   "name": "python",
   "nbconvert_exporter": "python",
   "pygments_lexer": "ipython3",
   "version": "3.8.5"
  }
 },
 "nbformat": 4,
 "nbformat_minor": 4
}
