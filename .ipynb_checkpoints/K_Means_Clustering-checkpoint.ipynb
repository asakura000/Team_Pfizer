{
 "cells": [
  {
   "cell_type": "markdown",
   "metadata": {},
   "source": [
    "# K Means Clustering "
   ]
  },
  {
   "cell_type": "markdown",
   "metadata": {},
   "source": [
    "## Some resources for thie topic:\n",
    "1. https://realpython.com/k-means-clustering-python/\n",
    "2. https://towardsdatascience.com/k-means-clustering-algorithm-applications-evaluation-methods-and-drawbacks-aa03e644b48a\n",
    "3. https://www.kaggle.com/prashant111/k-means-clustering-with-python\n",
    "4. For finding important features: https://towardsdatascience.com/interpretable-k-means-clusters-feature-importances-7e516eeb8d3c\n",
    "\n",
    "and the code for this package is here: https://github.com/YousefGh/kmeans-feature-importance"
   ]
  },
  {
   "cell_type": "code",
   "execution_count": 52,
   "metadata": {},
   "outputs": [],
   "source": [
    "import pandas as pd\n",
    "import numpy as np\n",
    "\n",
    "import matplotlib.pyplot as plt\n",
    "\n",
    "import seaborn as sns\n",
    "\n",
    "sns.set()\n",
    "\n",
    "%matplotlib inline"
   ]
  },
  {
   "cell_type": "code",
   "execution_count": 133,
   "metadata": {},
   "outputs": [],
   "source": [
    "pd.set_option(\"display.max_columns\", None)"
   ]
  },
  {
   "cell_type": "code",
   "execution_count": 134,
   "metadata": {},
   "outputs": [
    {
     "name": "stderr",
     "output_type": "stream",
     "text": [
      "/Users/atsukosakurai/opt/anaconda3/lib/python3.8/site-packages/IPython/core/interactiveshell.py:3146: DtypeWarning: Columns (9,15,26,27,28,29,30,31,32) have mixed types.Specify dtype option on import or set low_memory=False.\n",
      "  has_raised = await self.run_ast_nodes(code_ast.body, cell_name,\n"
     ]
    }
   ],
   "source": [
    "df = pd.read_csv('Pfizer_Turnover_Prediction_Model_version2.csv', converters={'POS_LEVEL1': lambda x: str(x), 'POS_LEVEL2':lambda x: str(x),\n",
    "                                          'POS_LEVEL3': lambda x: str(x), 'POS_LEVEL4': lambda x: str(x),\n",
    "                                          'POS_LEVEL5': lambda x: str(x)})"
   ]
  },
  {
   "cell_type": "code",
   "execution_count": 135,
   "metadata": {},
   "outputs": [],
   "source": [
    "# drop the extra column that it gives us\n",
    "df = df.drop(columns=['Unnamed: 0'])"
   ]
  },
  {
   "cell_type": "code",
   "execution_count": 136,
   "metadata": {},
   "outputs": [
    {
     "data": {
      "text/html": [
       "<div>\n",
       "<style scoped>\n",
       "    .dataframe tbody tr th:only-of-type {\n",
       "        vertical-align: middle;\n",
       "    }\n",
       "\n",
       "    .dataframe tbody tr th {\n",
       "        vertical-align: top;\n",
       "    }\n",
       "\n",
       "    .dataframe thead th {\n",
       "        text-align: right;\n",
       "    }\n",
       "</style>\n",
       "<table border=\"1\" class=\"dataframe\">\n",
       "  <thead>\n",
       "    <tr style=\"text-align: right;\">\n",
       "      <th></th>\n",
       "      <th>RandomID</th>\n",
       "      <th>POS_LEVEL1</th>\n",
       "      <th>POS_LEVEL2</th>\n",
       "      <th>POS_LEVEL3</th>\n",
       "      <th>POS_LEVEL4</th>\n",
       "      <th>POS_LEVEL5</th>\n",
       "      <th>POSITIONLVL</th>\n",
       "      <th>DEPARTMENT</th>\n",
       "      <th>DEPTCD</th>\n",
       "      <th>RPTG_DIV_MAPPING</th>\n",
       "      <th>REGION</th>\n",
       "      <th>COUNTRY</th>\n",
       "      <th>LOCATION</th>\n",
       "      <th>JOB_FUNCTION</th>\n",
       "      <th>JOBSUBFUNCTION</th>\n",
       "      <th>LGTHOFSVC</th>\n",
       "      <th>TIMEINJOB</th>\n",
       "      <th>TIMEINPOSITION</th>\n",
       "      <th>COMPARATIO</th>\n",
       "      <th>GLBLDEPTLVL03</th>\n",
       "      <th>GLBLDEPTLVL04</th>\n",
       "      <th>GLBLDEPTLVL05</th>\n",
       "      <th>GLBLDEPTLVL06</th>\n",
       "      <th>Month_Year</th>\n",
       "      <th>CALYRMO</th>\n",
       "      <th>CATEGORY</th>\n",
       "      <th>VOL_INVOL</th>\n",
       "      <th>ACTIONDT</th>\n",
       "      <th>ACTION</th>\n",
       "      <th>ACTIONCD</th>\n",
       "      <th>REASON</th>\n",
       "      <th>RSNCD</th>\n",
       "      <th>Status</th>\n",
       "      <th>Country Level Manufacturing</th>\n",
       "      <th>Country Level Sales</th>\n",
       "      <th>Country Level R&amp;D</th>\n",
       "      <th>Country Level Finance</th>\n",
       "      <th>Country Level Legal</th>\n",
       "      <th>Country Level HR</th>\n",
       "      <th>Country Level IT</th>\n",
       "      <th>Country Level Pharma Other</th>\n",
       "      <th>Country Level Cost of Living Index</th>\n",
       "      <th>Country Level Traffic Index</th>\n",
       "      <th>Country Level Time Index (in minutes)</th>\n",
       "      <th>Country Level Time Ex Index</th>\n",
       "      <th>Country Level Inefficiencies Index</th>\n",
       "      <th>Country Level Unemployment Rate (%)</th>\n",
       "      <th>Country Level Corruption Perception Index</th>\n",
       "      <th>Country Level Inflation (%)</th>\n",
       "      <th>Country Level GDP (nominal) (in USD billion)</th>\n",
       "      <th>Country Level Pharma Industry Growth</th>\n",
       "      <th>Country Level Labor Market Risk Index Score</th>\n",
       "      <th>Country Level Political Risk Index Score</th>\n",
       "      <th>Country Level Power distance</th>\n",
       "      <th>Country Level Individualism</th>\n",
       "      <th>Country Level Masculinity</th>\n",
       "      <th>Country Level Uncertainty avoidance</th>\n",
       "      <th>Country Level Long term orientation</th>\n",
       "      <th>Country Level Indulgence</th>\n",
       "      <th>Year</th>\n",
       "    </tr>\n",
       "  </thead>\n",
       "  <tbody>\n",
       "    <tr>\n",
       "      <th>0</th>\n",
       "      <td>119341</td>\n",
       "      <td>00026264</td>\n",
       "      <td>10152554</td>\n",
       "      <td>10158817</td>\n",
       "      <td>10645908</td>\n",
       "      <td>10708518</td>\n",
       "      <td>5.0</td>\n",
       "      <td>Corporate Tax</td>\n",
       "      <td>800399</td>\n",
       "      <td>Global Operations</td>\n",
       "      <td>North America</td>\n",
       "      <td>United States</td>\n",
       "      <td>Peapack New Jersey</td>\n",
       "      <td>Global Operations</td>\n",
       "      <td>Global Operations</td>\n",
       "      <td>29.555099</td>\n",
       "      <td>2.587269</td>\n",
       "      <td>2.587269</td>\n",
       "      <td>1.190823</td>\n",
       "      <td>Finance &amp; Business Ops</td>\n",
       "      <td>Finance</td>\n",
       "      <td>Corporate Tax</td>\n",
       "      <td>NaN</td>\n",
       "      <td>January_2017</td>\n",
       "      <td>NaN</td>\n",
       "      <td>NaN</td>\n",
       "      <td>NaN</td>\n",
       "      <td>NaN</td>\n",
       "      <td>NaN</td>\n",
       "      <td>NaN</td>\n",
       "      <td>NaN</td>\n",
       "      <td>NaN</td>\n",
       "      <td>0</td>\n",
       "      <td>0.193002</td>\n",
       "      <td>0.197747</td>\n",
       "      <td>0.140796</td>\n",
       "      <td>0.174018</td>\n",
       "      <td>0.166108</td>\n",
       "      <td>0.178764</td>\n",
       "      <td>0.186674</td>\n",
       "      <td>0.233198</td>\n",
       "      <td>77.141081</td>\n",
       "      <td>181.42619</td>\n",
       "      <td>39.171905</td>\n",
       "      <td>2043.656667</td>\n",
       "      <td>208.704286</td>\n",
       "      <td>0.0436</td>\n",
       "      <td>74.0</td>\n",
       "      <td>0.021</td>\n",
       "      <td>19485.400</td>\n",
       "      <td>NaN</td>\n",
       "      <td>NaN</td>\n",
       "      <td>NaN</td>\n",
       "      <td>NaN</td>\n",
       "      <td>NaN</td>\n",
       "      <td>NaN</td>\n",
       "      <td>NaN</td>\n",
       "      <td>NaN</td>\n",
       "      <td>NaN</td>\n",
       "      <td>2017</td>\n",
       "    </tr>\n",
       "    <tr>\n",
       "      <th>1</th>\n",
       "      <td>134992</td>\n",
       "      <td>00026264</td>\n",
       "      <td>00047530</td>\n",
       "      <td>10551332</td>\n",
       "      <td>11241036</td>\n",
       "      <td>10233655</td>\n",
       "      <td>7.0</td>\n",
       "      <td>GSCPM</td>\n",
       "      <td>800390</td>\n",
       "      <td>Pfizer Global Supply</td>\n",
       "      <td>North America</td>\n",
       "      <td>United States</td>\n",
       "      <td>Pleasant Prairie W3 -  Hospira</td>\n",
       "      <td>Engineering</td>\n",
       "      <td>Engineering Maintenance</td>\n",
       "      <td>26.948665</td>\n",
       "      <td>0.577687</td>\n",
       "      <td>0.577687</td>\n",
       "      <td>NaN</td>\n",
       "      <td>GSCPM</td>\n",
       "      <td>NaN</td>\n",
       "      <td>NaN</td>\n",
       "      <td>NaN</td>\n",
       "      <td>January_2017</td>\n",
       "      <td>NaN</td>\n",
       "      <td>NaN</td>\n",
       "      <td>NaN</td>\n",
       "      <td>NaN</td>\n",
       "      <td>NaN</td>\n",
       "      <td>NaN</td>\n",
       "      <td>NaN</td>\n",
       "      <td>NaN</td>\n",
       "      <td>0</td>\n",
       "      <td>0.193002</td>\n",
       "      <td>0.197747</td>\n",
       "      <td>0.140796</td>\n",
       "      <td>0.174018</td>\n",
       "      <td>0.166108</td>\n",
       "      <td>0.178764</td>\n",
       "      <td>0.186674</td>\n",
       "      <td>0.233198</td>\n",
       "      <td>77.141081</td>\n",
       "      <td>181.42619</td>\n",
       "      <td>39.171905</td>\n",
       "      <td>2043.656667</td>\n",
       "      <td>208.704286</td>\n",
       "      <td>0.0436</td>\n",
       "      <td>74.0</td>\n",
       "      <td>0.021</td>\n",
       "      <td>19485.400</td>\n",
       "      <td>NaN</td>\n",
       "      <td>NaN</td>\n",
       "      <td>NaN</td>\n",
       "      <td>NaN</td>\n",
       "      <td>NaN</td>\n",
       "      <td>NaN</td>\n",
       "      <td>NaN</td>\n",
       "      <td>NaN</td>\n",
       "      <td>NaN</td>\n",
       "      <td>2017</td>\n",
       "    </tr>\n",
       "    <tr>\n",
       "      <th>2</th>\n",
       "      <td>78068</td>\n",
       "      <td>00026264</td>\n",
       "      <td>00047530</td>\n",
       "      <td>10551332</td>\n",
       "      <td>11241036</td>\n",
       "      <td>11240229</td>\n",
       "      <td>7.0</td>\n",
       "      <td>Pfizer Global Supply</td>\n",
       "      <td>800066</td>\n",
       "      <td>Pfizer Global Supply</td>\n",
       "      <td>North America</td>\n",
       "      <td>United States</td>\n",
       "      <td>Peapack New Jersey</td>\n",
       "      <td>Logistics &amp; Supply Chain Mgmt</td>\n",
       "      <td>Supply Chain Functions</td>\n",
       "      <td>14.069815</td>\n",
       "      <td>0.060233</td>\n",
       "      <td>0.060233</td>\n",
       "      <td>0.974331</td>\n",
       "      <td>NaN</td>\n",
       "      <td>NaN</td>\n",
       "      <td>NaN</td>\n",
       "      <td>NaN</td>\n",
       "      <td>January_2017</td>\n",
       "      <td>NaN</td>\n",
       "      <td>NaN</td>\n",
       "      <td>NaN</td>\n",
       "      <td>NaN</td>\n",
       "      <td>NaN</td>\n",
       "      <td>NaN</td>\n",
       "      <td>NaN</td>\n",
       "      <td>NaN</td>\n",
       "      <td>0</td>\n",
       "      <td>0.193002</td>\n",
       "      <td>0.197747</td>\n",
       "      <td>0.140796</td>\n",
       "      <td>0.174018</td>\n",
       "      <td>0.166108</td>\n",
       "      <td>0.178764</td>\n",
       "      <td>0.186674</td>\n",
       "      <td>0.233198</td>\n",
       "      <td>77.141081</td>\n",
       "      <td>181.42619</td>\n",
       "      <td>39.171905</td>\n",
       "      <td>2043.656667</td>\n",
       "      <td>208.704286</td>\n",
       "      <td>0.0436</td>\n",
       "      <td>74.0</td>\n",
       "      <td>0.021</td>\n",
       "      <td>19485.400</td>\n",
       "      <td>NaN</td>\n",
       "      <td>NaN</td>\n",
       "      <td>NaN</td>\n",
       "      <td>NaN</td>\n",
       "      <td>NaN</td>\n",
       "      <td>NaN</td>\n",
       "      <td>NaN</td>\n",
       "      <td>NaN</td>\n",
       "      <td>NaN</td>\n",
       "      <td>2017</td>\n",
       "    </tr>\n",
       "    <tr>\n",
       "      <th>3</th>\n",
       "      <td>146210</td>\n",
       "      <td>00026264</td>\n",
       "      <td>10551122</td>\n",
       "      <td>10608626</td>\n",
       "      <td>10140857</td>\n",
       "      <td>00132102</td>\n",
       "      <td>8.0</td>\n",
       "      <td>PSSM Drug Product Supply</td>\n",
       "      <td>803386</td>\n",
       "      <td>Worldwide Research &amp; Development</td>\n",
       "      <td>North America</td>\n",
       "      <td>United States</td>\n",
       "      <td>Groton, Connecticut</td>\n",
       "      <td>Logistics &amp; Supply Chain Mgmt</td>\n",
       "      <td>Logistics &amp; Supply Chain Mgmt</td>\n",
       "      <td>14.088980</td>\n",
       "      <td>3.835729</td>\n",
       "      <td>3.835729</td>\n",
       "      <td>1.113577</td>\n",
       "      <td>Medicinal Sciences</td>\n",
       "      <td>Pharm Sci Small Molecule</td>\n",
       "      <td>PSSM Drug Product Supply</td>\n",
       "      <td>NaN</td>\n",
       "      <td>January_2017</td>\n",
       "      <td>NaN</td>\n",
       "      <td>NaN</td>\n",
       "      <td>NaN</td>\n",
       "      <td>NaN</td>\n",
       "      <td>NaN</td>\n",
       "      <td>NaN</td>\n",
       "      <td>NaN</td>\n",
       "      <td>NaN</td>\n",
       "      <td>0</td>\n",
       "      <td>0.193002</td>\n",
       "      <td>0.197747</td>\n",
       "      <td>0.140796</td>\n",
       "      <td>0.174018</td>\n",
       "      <td>0.166108</td>\n",
       "      <td>0.178764</td>\n",
       "      <td>0.186674</td>\n",
       "      <td>0.233198</td>\n",
       "      <td>77.141081</td>\n",
       "      <td>181.42619</td>\n",
       "      <td>39.171905</td>\n",
       "      <td>2043.656667</td>\n",
       "      <td>208.704286</td>\n",
       "      <td>0.0436</td>\n",
       "      <td>74.0</td>\n",
       "      <td>0.021</td>\n",
       "      <td>19485.400</td>\n",
       "      <td>NaN</td>\n",
       "      <td>NaN</td>\n",
       "      <td>NaN</td>\n",
       "      <td>NaN</td>\n",
       "      <td>NaN</td>\n",
       "      <td>NaN</td>\n",
       "      <td>NaN</td>\n",
       "      <td>NaN</td>\n",
       "      <td>NaN</td>\n",
       "      <td>2017</td>\n",
       "    </tr>\n",
       "    <tr>\n",
       "      <th>4</th>\n",
       "      <td>14471</td>\n",
       "      <td>00026264</td>\n",
       "      <td>10655662</td>\n",
       "      <td>11269189</td>\n",
       "      <td>10655733</td>\n",
       "      <td>10261243</td>\n",
       "      <td>6.0</td>\n",
       "      <td>GEP Germany</td>\n",
       "      <td>802585</td>\n",
       "      <td>Pfizer Essential Health (PEH)</td>\n",
       "      <td>Europe</td>\n",
       "      <td>Germany</td>\n",
       "      <td>Berlin</td>\n",
       "      <td>Marketing and Market Research</td>\n",
       "      <td>Product Mgmt/Brand Marketing</td>\n",
       "      <td>12.501027</td>\n",
       "      <td>6.053388</td>\n",
       "      <td>7.835729</td>\n",
       "      <td>NaN</td>\n",
       "      <td>GEP - Europe</td>\n",
       "      <td>GEP Germany</td>\n",
       "      <td>NaN</td>\n",
       "      <td>NaN</td>\n",
       "      <td>January_2017</td>\n",
       "      <td>NaN</td>\n",
       "      <td>NaN</td>\n",
       "      <td>NaN</td>\n",
       "      <td>NaN</td>\n",
       "      <td>NaN</td>\n",
       "      <td>NaN</td>\n",
       "      <td>NaN</td>\n",
       "      <td>NaN</td>\n",
       "      <td>0</td>\n",
       "      <td>0.173282</td>\n",
       "      <td>0.177543</td>\n",
       "      <td>0.126411</td>\n",
       "      <td>0.156238</td>\n",
       "      <td>0.149136</td>\n",
       "      <td>0.160499</td>\n",
       "      <td>0.167600</td>\n",
       "      <td>0.175368</td>\n",
       "      <td>67.616667</td>\n",
       "      <td>96.49500</td>\n",
       "      <td>33.000000</td>\n",
       "      <td>321.450000</td>\n",
       "      <td>112.645000</td>\n",
       "      <td>0.0375</td>\n",
       "      <td>81.0</td>\n",
       "      <td>0.017</td>\n",
       "      <td>3700.613</td>\n",
       "      <td>0.048928</td>\n",
       "      <td>NaN</td>\n",
       "      <td>NaN</td>\n",
       "      <td>NaN</td>\n",
       "      <td>NaN</td>\n",
       "      <td>NaN</td>\n",
       "      <td>NaN</td>\n",
       "      <td>NaN</td>\n",
       "      <td>NaN</td>\n",
       "      <td>2017</td>\n",
       "    </tr>\n",
       "  </tbody>\n",
       "</table>\n",
       "</div>"
      ],
      "text/plain": [
       "   RandomID POS_LEVEL1 POS_LEVEL2 POS_LEVEL3 POS_LEVEL4 POS_LEVEL5  \\\n",
       "0    119341   00026264   10152554   10158817   10645908   10708518   \n",
       "1    134992   00026264   00047530   10551332   11241036   10233655   \n",
       "2     78068   00026264   00047530   10551332   11241036   11240229   \n",
       "3    146210   00026264   10551122   10608626   10140857   00132102   \n",
       "4     14471   00026264   10655662   11269189   10655733   10261243   \n",
       "\n",
       "   POSITIONLVL                DEPARTMENT  DEPTCD  \\\n",
       "0          5.0             Corporate Tax  800399   \n",
       "1          7.0                     GSCPM  800390   \n",
       "2          7.0      Pfizer Global Supply  800066   \n",
       "3          8.0  PSSM Drug Product Supply  803386   \n",
       "4          6.0               GEP Germany  802585   \n",
       "\n",
       "                   RPTG_DIV_MAPPING         REGION        COUNTRY  \\\n",
       "0                 Global Operations  North America  United States   \n",
       "1              Pfizer Global Supply  North America  United States   \n",
       "2              Pfizer Global Supply  North America  United States   \n",
       "3  Worldwide Research & Development  North America  United States   \n",
       "4     Pfizer Essential Health (PEH)         Europe        Germany   \n",
       "\n",
       "                         LOCATION                   JOB_FUNCTION  \\\n",
       "0              Peapack New Jersey              Global Operations   \n",
       "1  Pleasant Prairie W3 -  Hospira                    Engineering   \n",
       "2              Peapack New Jersey  Logistics & Supply Chain Mgmt   \n",
       "3             Groton, Connecticut  Logistics & Supply Chain Mgmt   \n",
       "4                          Berlin  Marketing and Market Research   \n",
       "\n",
       "                  JOBSUBFUNCTION  LGTHOFSVC  TIMEINJOB  TIMEINPOSITION  \\\n",
       "0              Global Operations  29.555099   2.587269        2.587269   \n",
       "1        Engineering Maintenance  26.948665   0.577687        0.577687   \n",
       "2         Supply Chain Functions  14.069815   0.060233        0.060233   \n",
       "3  Logistics & Supply Chain Mgmt  14.088980   3.835729        3.835729   \n",
       "4   Product Mgmt/Brand Marketing  12.501027   6.053388        7.835729   \n",
       "\n",
       "   COMPARATIO           GLBLDEPTLVL03             GLBLDEPTLVL04  \\\n",
       "0    1.190823  Finance & Business Ops                   Finance   \n",
       "1         NaN                   GSCPM                       NaN   \n",
       "2    0.974331                     NaN                       NaN   \n",
       "3    1.113577      Medicinal Sciences  Pharm Sci Small Molecule   \n",
       "4         NaN            GEP - Europe               GEP Germany   \n",
       "\n",
       "              GLBLDEPTLVL05 GLBLDEPTLVL06    Month_Year  CALYRMO CATEGORY  \\\n",
       "0             Corporate Tax           NaN  January_2017      NaN      NaN   \n",
       "1                       NaN           NaN  January_2017      NaN      NaN   \n",
       "2                       NaN           NaN  January_2017      NaN      NaN   \n",
       "3  PSSM Drug Product Supply           NaN  January_2017      NaN      NaN   \n",
       "4                       NaN           NaN  January_2017      NaN      NaN   \n",
       "\n",
       "  VOL_INVOL ACTIONDT ACTION ACTIONCD REASON RSNCD  Status  \\\n",
       "0       NaN      NaN    NaN      NaN    NaN   NaN       0   \n",
       "1       NaN      NaN    NaN      NaN    NaN   NaN       0   \n",
       "2       NaN      NaN    NaN      NaN    NaN   NaN       0   \n",
       "3       NaN      NaN    NaN      NaN    NaN   NaN       0   \n",
       "4       NaN      NaN    NaN      NaN    NaN   NaN       0   \n",
       "\n",
       "   Country Level Manufacturing  Country Level Sales  Country Level R&D  \\\n",
       "0                     0.193002             0.197747           0.140796   \n",
       "1                     0.193002             0.197747           0.140796   \n",
       "2                     0.193002             0.197747           0.140796   \n",
       "3                     0.193002             0.197747           0.140796   \n",
       "4                     0.173282             0.177543           0.126411   \n",
       "\n",
       "   Country Level Finance  Country Level Legal  Country Level HR  \\\n",
       "0               0.174018             0.166108          0.178764   \n",
       "1               0.174018             0.166108          0.178764   \n",
       "2               0.174018             0.166108          0.178764   \n",
       "3               0.174018             0.166108          0.178764   \n",
       "4               0.156238             0.149136          0.160499   \n",
       "\n",
       "   Country Level IT  Country Level Pharma Other  \\\n",
       "0          0.186674                    0.233198   \n",
       "1          0.186674                    0.233198   \n",
       "2          0.186674                    0.233198   \n",
       "3          0.186674                    0.233198   \n",
       "4          0.167600                    0.175368   \n",
       "\n",
       "   Country Level Cost of Living Index  Country Level Traffic Index  \\\n",
       "0                           77.141081                    181.42619   \n",
       "1                           77.141081                    181.42619   \n",
       "2                           77.141081                    181.42619   \n",
       "3                           77.141081                    181.42619   \n",
       "4                           67.616667                     96.49500   \n",
       "\n",
       "   Country Level Time Index (in minutes)  Country Level Time Ex Index  \\\n",
       "0                              39.171905                  2043.656667   \n",
       "1                              39.171905                  2043.656667   \n",
       "2                              39.171905                  2043.656667   \n",
       "3                              39.171905                  2043.656667   \n",
       "4                              33.000000                   321.450000   \n",
       "\n",
       "   Country Level Inefficiencies Index  Country Level Unemployment Rate (%)  \\\n",
       "0                          208.704286                               0.0436   \n",
       "1                          208.704286                               0.0436   \n",
       "2                          208.704286                               0.0436   \n",
       "3                          208.704286                               0.0436   \n",
       "4                          112.645000                               0.0375   \n",
       "\n",
       "   Country Level Corruption Perception Index  Country Level Inflation (%)  \\\n",
       "0                                       74.0                        0.021   \n",
       "1                                       74.0                        0.021   \n",
       "2                                       74.0                        0.021   \n",
       "3                                       74.0                        0.021   \n",
       "4                                       81.0                        0.017   \n",
       "\n",
       "   Country Level GDP (nominal) (in USD billion)  \\\n",
       "0                                     19485.400   \n",
       "1                                     19485.400   \n",
       "2                                     19485.400   \n",
       "3                                     19485.400   \n",
       "4                                      3700.613   \n",
       "\n",
       "   Country Level Pharma Industry Growth  \\\n",
       "0                                   NaN   \n",
       "1                                   NaN   \n",
       "2                                   NaN   \n",
       "3                                   NaN   \n",
       "4                              0.048928   \n",
       "\n",
       "   Country Level Labor Market Risk Index Score  \\\n",
       "0                                          NaN   \n",
       "1                                          NaN   \n",
       "2                                          NaN   \n",
       "3                                          NaN   \n",
       "4                                          NaN   \n",
       "\n",
       "   Country Level Political Risk Index Score  Country Level Power distance  \\\n",
       "0                                       NaN                           NaN   \n",
       "1                                       NaN                           NaN   \n",
       "2                                       NaN                           NaN   \n",
       "3                                       NaN                           NaN   \n",
       "4                                       NaN                           NaN   \n",
       "\n",
       "   Country Level Individualism  Country Level Masculinity  \\\n",
       "0                          NaN                        NaN   \n",
       "1                          NaN                        NaN   \n",
       "2                          NaN                        NaN   \n",
       "3                          NaN                        NaN   \n",
       "4                          NaN                        NaN   \n",
       "\n",
       "   Country Level Uncertainty avoidance  Country Level Long term orientation  \\\n",
       "0                                  NaN                                  NaN   \n",
       "1                                  NaN                                  NaN   \n",
       "2                                  NaN                                  NaN   \n",
       "3                                  NaN                                  NaN   \n",
       "4                                  NaN                                  NaN   \n",
       "\n",
       "   Country Level Indulgence  Year  \n",
       "0                       NaN  2017  \n",
       "1                       NaN  2017  \n",
       "2                       NaN  2017  \n",
       "3                       NaN  2017  \n",
       "4                       NaN  2017  "
      ]
     },
     "execution_count": 136,
     "metadata": {},
     "output_type": "execute_result"
    }
   ],
   "source": [
    "df.head()"
   ]
  },
  {
   "cell_type": "code",
   "execution_count": 137,
   "metadata": {},
   "outputs": [],
   "source": [
    "#df.isnull().sum()"
   ]
  },
  {
   "cell_type": "code",
   "execution_count": 138,
   "metadata": {},
   "outputs": [],
   "source": [
    "df = df.drop(columns=['CALYRMO', 'CATEGORY', 'VOL_INVOL', 'ACTIONDT', 'ACTION', 'ACTIONCD', 'REASON', 'RSNCD'])"
   ]
  },
  {
   "cell_type": "code",
   "execution_count": 139,
   "metadata": {},
   "outputs": [],
   "source": [
    "df = df.dropna()"
   ]
  },
  {
   "cell_type": "code",
   "execution_count": 171,
   "metadata": {},
   "outputs": [
    {
     "data": {
      "text/plain": [
       "(97375, 52)"
      ]
     },
     "execution_count": 171,
     "metadata": {},
     "output_type": "execute_result"
    }
   ],
   "source": [
    "df.shape"
   ]
  },
  {
   "cell_type": "code",
   "execution_count": 172,
   "metadata": {},
   "outputs": [],
   "source": [
    "#df['DEPTCD'] = df['DEPTCD'].astype(int)"
   ]
  },
  {
   "cell_type": "code",
   "execution_count": 173,
   "metadata": {},
   "outputs": [],
   "source": [
    "#df.info()"
   ]
  },
  {
   "cell_type": "code",
   "execution_count": 174,
   "metadata": {},
   "outputs": [],
   "source": [
    "#df.isnull().sum()"
   ]
  },
  {
   "cell_type": "code",
   "execution_count": 201,
   "metadata": {},
   "outputs": [],
   "source": [
    "from sklearn.cluster import KMeans"
   ]
  },
  {
   "cell_type": "code",
   "execution_count": 233,
   "metadata": {},
   "outputs": [
    {
     "data": {
      "text/plain": [
       "Index(['RandomID', 'POS_LEVEL1', 'POS_LEVEL2', 'POS_LEVEL3', 'POS_LEVEL4',\n",
       "       'POS_LEVEL5', 'POSITIONLVL', 'DEPARTMENT', 'DEPTCD', 'RPTG_DIV_MAPPING',\n",
       "       'REGION', 'COUNTRY', 'LOCATION', 'JOB_FUNCTION', 'JOBSUBFUNCTION',\n",
       "       'LGTHOFSVC', 'TIMEINJOB', 'TIMEINPOSITION', 'COMPARATIO',\n",
       "       'GLBLDEPTLVL03', 'GLBLDEPTLVL04', 'GLBLDEPTLVL05', 'GLBLDEPTLVL06',\n",
       "       'Month_Year', 'Status', 'Country Level Manufacturing',\n",
       "       'Country Level Sales', 'Country Level R&D', 'Country Level Finance',\n",
       "       'Country Level Legal', 'Country Level HR', 'Country Level IT',\n",
       "       'Country Level Pharma Other', 'Country Level Cost of Living Index',\n",
       "       'Country Level Traffic Index', 'Country Level Time Index (in minutes)',\n",
       "       'Country Level Time Ex Index', 'Country Level Inefficiencies Index',\n",
       "       'Country Level Unemployment Rate (%)',\n",
       "       'Country Level Corruption Perception Index',\n",
       "       'Country Level Inflation (%)',\n",
       "       'Country Level GDP (nominal) (in USD billion)',\n",
       "       'Country Level Pharma Industry Growth',\n",
       "       'Country Level Labor Market Risk Index Score',\n",
       "       'Country Level Political Risk Index Score',\n",
       "       'Country Level Power distance', 'Country Level Individualism',\n",
       "       'Country Level Masculinity', 'Country Level Uncertainty avoidance',\n",
       "       'Country Level Long term orientation', 'Country Level Indulgence',\n",
       "       'Year'],\n",
       "      dtype='object')"
      ]
     },
     "execution_count": 233,
     "metadata": {},
     "output_type": "execute_result"
    }
   ],
   "source": [
    "df.columns"
   ]
  },
  {
   "cell_type": "code",
   "execution_count": 284,
   "metadata": {},
   "outputs": [],
   "source": [
    "chosen_vars = ['POSITIONLVL',\n",
    "       'LGTHOFSVC', 'TIMEINJOB', 'TIMEINPOSITION', 'COMPARATIO',\n",
    "       'Status', 'Country Level Manufacturing',\n",
    "       'Country Level Sales', 'Country Level R&D', 'Country Level Finance',\n",
    "       'Country Level Legal', 'Country Level HR', 'Country Level IT',\n",
    "       'Country Level Pharma Other', 'Country Level Cost of Living Index',\n",
    "       'Country Level Traffic Index', 'Country Level Time Index (in minutes)',\n",
    "       'Country Level Time Ex Index', 'Country Level Inefficiencies Index',\n",
    "       'Country Level Unemployment Rate (%)',\n",
    "       'Country Level Corruption Perception Index',\n",
    "       'Country Level Inflation (%)',\n",
    "       'Country Level GDP (nominal) (in USD billion)',\n",
    "       'Country Level Pharma Industry Growth',\n",
    "       'Country Level Labor Market Risk Index Score',\n",
    "       'Country Level Political Risk Index Score',\n",
    "       'Country Level Power distance', 'Country Level Individualism',\n",
    "       'Country Level Masculinity', 'Country Level Uncertainty avoidance',\n",
    "       'Country Level Long term orientation', 'Country Level Indulgence',\n",
    "       'Year']"
   ]
  },
  {
   "cell_type": "code",
   "execution_count": 285,
   "metadata": {},
   "outputs": [],
   "source": [
    "X = df[chosen_vars]"
   ]
  },
  {
   "cell_type": "code",
   "execution_count": 286,
   "metadata": {},
   "outputs": [
    {
     "data": {
      "text/plain": [
       "33"
      ]
     },
     "execution_count": 286,
     "metadata": {},
     "output_type": "execute_result"
    }
   ],
   "source": [
    "len(chosen_vars)"
   ]
  },
  {
   "cell_type": "code",
   "execution_count": 287,
   "metadata": {},
   "outputs": [],
   "source": [
    "k = 2"
   ]
  },
  {
   "cell_type": "code",
   "execution_count": 288,
   "metadata": {},
   "outputs": [],
   "source": [
    "kmeans = KMeans(n_clusters=k)"
   ]
  },
  {
   "cell_type": "code",
   "execution_count": 289,
   "metadata": {},
   "outputs": [],
   "source": [
    "y_pred = kmeans.fit_predict(X)"
   ]
  },
  {
   "cell_type": "code",
   "execution_count": 290,
   "metadata": {},
   "outputs": [
    {
     "data": {
      "text/plain": [
       "array([0, 0, 0, ..., 1, 1, 0], dtype=int32)"
      ]
     },
     "execution_count": 290,
     "metadata": {},
     "output_type": "execute_result"
    }
   ],
   "source": [
    "y_pred"
   ]
  },
  {
   "cell_type": "code",
   "execution_count": 291,
   "metadata": {},
   "outputs": [
    {
     "data": {
      "text/plain": [
       "True"
      ]
     },
     "execution_count": 291,
     "metadata": {},
     "output_type": "execute_result"
    }
   ],
   "source": [
    "y_pred is kmeans.labels_"
   ]
  },
  {
   "cell_type": "code",
   "execution_count": 292,
   "metadata": {},
   "outputs": [
    {
     "data": {
      "text/plain": [
       "array([[8.62134733e+00, 1.44162109e+01, 5.91624919e+00, 4.65048354e+00,\n",
       "        9.53769095e-01, 0.00000000e+00, 2.22343389e-01, 2.27810849e-01,\n",
       "        1.62201325e-01, 2.00473547e-01, 1.91361113e-01, 2.05941008e-01,\n",
       "        2.15053442e-01, 2.02650328e-01, 8.17371185e+01, 1.78722138e+02,\n",
       "        4.55648554e+01, 4.02799989e+03, 1.99424539e+02, 8.12641016e-02,\n",
       "        6.45078393e+01, 1.84404397e-02, 2.41423868e+03, 6.02087862e-02,\n",
       "        3.58264102e+01, 3.27331501e+01, 4.31994503e+01, 8.18938097e+01,\n",
       "        6.81865201e+01, 5.68652009e+01, 5.64663002e+01, 4.76814291e+01,\n",
       "        2.01800000e+03],\n",
       "       [8.89974036e+00, 1.19277772e+01, 5.17716240e+00, 5.10708426e+00,\n",
       "        9.72153339e-01, 0.00000000e+00, 1.88128760e-01, 1.92754877e-01,\n",
       "        1.37241472e-01, 1.69624292e-01, 1.61914097e-01, 1.74250409e-01,\n",
       "        1.81960604e-01, 1.54203902e-01, 8.01497937e+01, 1.32388753e+02,\n",
       "        3.46534509e+01, 6.01942558e+02, 1.24198705e+02, 6.95619625e-02,\n",
       "        7.86917293e+01, 2.31169741e-02, 9.82251116e+02, 6.76892946e-02,\n",
       "        3.20644777e+01, 2.00743766e+01, 5.12182074e+01, 7.63657435e+01,\n",
       "        4.72857413e+01, 6.90260994e+01, 6.14143723e+01, 6.36371504e+01,\n",
       "        2.01800000e+03]])"
      ]
     },
     "execution_count": 292,
     "metadata": {},
     "output_type": "execute_result"
    }
   ],
   "source": [
    "kmeans.cluster_centers_"
   ]
  },
  {
   "cell_type": "code",
   "execution_count": 293,
   "metadata": {},
   "outputs": [
    {
     "data": {
      "text/plain": [
       "array([0, 0, 0, ..., 1, 1, 0], dtype=int32)"
      ]
     },
     "execution_count": 293,
     "metadata": {},
     "output_type": "execute_result"
    }
   ],
   "source": [
    "kmeans.labels_"
   ]
  },
  {
   "cell_type": "code",
   "execution_count": 294,
   "metadata": {},
   "outputs": [
    {
     "data": {
      "text/plain": [
       "106744979987.35036"
      ]
     },
     "execution_count": 294,
     "metadata": {},
     "output_type": "execute_result"
    }
   ],
   "source": [
    "kmeans.inertia_"
   ]
  },
  {
   "cell_type": "code",
   "execution_count": 295,
   "metadata": {},
   "outputs": [],
   "source": [
    "y = df['Status']"
   ]
  },
  {
   "cell_type": "code",
   "execution_count": 296,
   "metadata": {},
   "outputs": [
    {
     "name": "stdout",
     "output_type": "stream",
     "text": [
      "Result: 60401 out of 97375 samples were correctly labeled.\n"
     ]
    }
   ],
   "source": [
    "labels = kmeans.labels_\n",
    "\n",
    "# check how many of the samples were correctly labeled\n",
    "correct_labels = sum(y == labels)\n",
    "\n",
    "print(\"Result: %d out of %d samples were correctly labeled.\" % (correct_labels, y.size))"
   ]
  },
  {
   "cell_type": "code",
   "execution_count": 297,
   "metadata": {},
   "outputs": [
    {
     "name": "stdout",
     "output_type": "stream",
     "text": [
      "Accuracy score: 0.62\n"
     ]
    }
   ],
   "source": [
    "print('Accuracy score: {0:0.2f}'. format(correct_labels/float(y.size)))"
   ]
  },
  {
   "cell_type": "code",
   "execution_count": 298,
   "metadata": {},
   "outputs": [
    {
     "data": {
      "image/png": "[encoded data removed]",
      "text/plain": [
       "<Figure size 432x288 with 1 Axes>"
      ]
     },
     "metadata": {
      "needs_background": "light"
     },
     "output_type": "display_data"
    }
   ],
   "source": [
    "cs = []\n",
    "for i in range(1, 11):\n",
    "    kmeans = KMeans(n_clusters = i, init = 'k-means++', max_iter = 300, n_init = 10, random_state = 0)\n",
    "    kmeans.fit(X)\n",
    "    cs.append(kmeans.inertia_)\n",
    "plt.plot(range(1, 11), cs)\n",
    "plt.title('The Elbow Method')\n",
    "plt.xlabel('Number of clusters')\n",
    "plt.ylabel('CS')\n",
    "plt.show()"
   ]
  },
  {
   "cell_type": "code",
   "execution_count": 299,
   "metadata": {},
   "outputs": [
    {
     "data": {
      "text/plain": [
       "-8096098.354224984"
      ]
     },
     "execution_count": 299,
     "metadata": {},
     "output_type": "execute_result"
    }
   ],
   "source": [
    "kmeans.score(X)"
   ]
  },
  {
   "cell_type": "code",
   "execution_count": 300,
   "metadata": {},
   "outputs": [],
   "source": [
    "from kmeans_interp.kmeans_feature_imp import KMeansInterp"
   ]
  },
  {
   "cell_type": "code",
   "execution_count": 302,
   "metadata": {},
   "outputs": [
    {
     "data": {
      "text/plain": [
       "[('Country Level Time Ex Index', 4027.999894289792),\n",
       " ('Country Level GDP (nominal) (in USD billion)', 2414.2386831840467),\n",
       " ('Year', 2018.0),\n",
       " ('Country Level Inefficiencies Index', 199.4245389149188),\n",
       " ('Country Level Traffic Index', 178.7221384579728),\n",
       " ('Country Level Individualism', 81.89380970513733),\n",
       " ('Country Level Cost of Living Index', 81.73711848037837),\n",
       " ('Country Level Masculinity', 68.18652009072675),\n",
       " ('Country Level Corruption Perception Index', 64.50783927418439),\n",
       " ('Country Level Uncertainty avoidance', 56.86520090726965),\n",
       " ('Country Level Long term orientation', 56.46630022681752)]"
      ]
     },
     "execution_count": 302,
     "metadata": {},
     "output_type": "execute_result"
    }
   ],
   "source": [
    "#X = pd.DataFrame(...) # DataFrame is an example to deliver the idea of features order\n",
    "\n",
    "kms = KMeansInterp(\n",
    "    n_clusters=2,\n",
    "    ordered_feature_names=X.columns.tolist(), \n",
    "    feature_importance_method='wcss_min', # 'unsup2sup' or 'wcss_min'\n",
    ").fit(X.values)\n",
    "\n",
    "kms.feature_importances_[0][:11] # Features here are words"
   ]
  },
  {
   "cell_type": "code",
   "execution_count": null,
   "metadata": {},
   "outputs": [],
   "source": []
  }
 ],
 "metadata": {
  "kernelspec": {
   "display_name": "Python 3",
   "language": "python",
   "name": "python3"
  },
  "language_info": {
   "codemirror_mode": {
    "name": "ipython",
    "version": 3
   },
   "file_extension": ".py",
   "mimetype": "text/x-python",
   "name": "python",
   "nbconvert_exporter": "python",
   "pygments_lexer": "ipython3",
   "version": "3.8.5"
  }
 },
 "nbformat": 4,
 "nbformat_minor": 4
}
