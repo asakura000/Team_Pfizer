{
 "cells": [
  {
   "cell_type": "markdown",
   "metadata": {},
   "source": [
    "# Survival Analysis"
   ]
  },
  {
   "cell_type": "markdown",
   "metadata": {},
   "source": [
    "## Usefule resources for this topic:\n",
    "1. https://towardsdatascience.com/survival-analysis-intuition-implementation-in-python-504fde4fcf8e and the github:\n",
    "2. https://github.com/anurag-code/Survival-Analysis-Intuition-Implementation-in-Pytho[…]b/master/Survival%20Analysis%20-%20Quick%20Implementation.ipynb\n",
    "3. https://scikit-survival.readthedocs.io/en/stable/user_guide/00-introduction.html\n",
    "4. https://lifelines.readthedocs.io/en/latest/Survival%20analysis%20with%20lifelines.html"
   ]
  },
  {
   "cell_type": "code",
   "execution_count": 1,
   "metadata": {},
   "outputs": [],
   "source": [
    "import pandas as pd\n",
    "import numpy as np\n",
    "\n",
    "import matplotlib.pyplot as plt\n",
    "\n",
    "import seaborn as sns\n",
    "\n",
    "sns.set()\n",
    "\n",
    "%matplotlib inline\n",
    "\n",
    "pd.set_option(\"display.max_columns\", None)"
   ]
  },
  {
   "cell_type": "code",
   "execution_count": 2,
   "metadata": {},
   "outputs": [
    {
     "name": "stderr",
     "output_type": "stream",
     "text": [
      "/Users/atsukosakurai/opt/anaconda3/lib/python3.8/site-packages/IPython/core/interactiveshell.py:3146: DtypeWarning: Columns (9,15,26,27,28,29,30,31,32) have mixed types.Specify dtype option on import or set low_memory=False.\n",
      "  has_raised = await self.run_ast_nodes(code_ast.body, cell_name,\n"
     ]
    }
   ],
   "source": [
    "df = pd.read_csv('Pfizer_Turnover_Prediction_Model_version2.csv', converters={'POS_LEVEL1': lambda x: str(x), 'POS_LEVEL2':lambda x: str(x),\n",
    "                                          'POS_LEVEL3': lambda x: str(x), 'POS_LEVEL4': lambda x: str(x),\n",
    "                                          'POS_LEVEL5': lambda x: str(x)})"
   ]
  },
  {
   "cell_type": "code",
   "execution_count": 3,
   "metadata": {},
   "outputs": [],
   "source": [
    "# drop the extra column that it gives us\n",
    "df = df.drop(columns=['Unnamed: 0'])"
   ]
  },
  {
   "cell_type": "code",
   "execution_count": 4,
   "metadata": {},
   "outputs": [
    {
     "data": {
      "text/plain": [
       "(4723161, 60)"
      ]
     },
     "execution_count": 4,
     "metadata": {},
     "output_type": "execute_result"
    }
   ],
   "source": [
    "df.shape"
   ]
  },
  {
   "cell_type": "code",
   "execution_count": 5,
   "metadata": {},
   "outputs": [
    {
     "data": {
      "text/html": [
       "<div>\n",
       "<style scoped>\n",
       "    .dataframe tbody tr th:only-of-type {\n",
       "        vertical-align: middle;\n",
       "    }\n",
       "\n",
       "    .dataframe tbody tr th {\n",
       "        vertical-align: top;\n",
       "    }\n",
       "\n",
       "    .dataframe thead th {\n",
       "        text-align: right;\n",
       "    }\n",
       "</style>\n",
       "<table border=\"1\" class=\"dataframe\">\n",
       "  <thead>\n",
       "    <tr style=\"text-align: right;\">\n",
       "      <th></th>\n",
       "      <th>RandomID</th>\n",
       "      <th>POS_LEVEL1</th>\n",
       "      <th>POS_LEVEL2</th>\n",
       "      <th>POS_LEVEL3</th>\n",
       "      <th>POS_LEVEL4</th>\n",
       "      <th>POS_LEVEL5</th>\n",
       "      <th>POSITIONLVL</th>\n",
       "      <th>DEPARTMENT</th>\n",
       "      <th>DEPTCD</th>\n",
       "      <th>RPTG_DIV_MAPPING</th>\n",
       "      <th>REGION</th>\n",
       "      <th>COUNTRY</th>\n",
       "      <th>LOCATION</th>\n",
       "      <th>JOB_FUNCTION</th>\n",
       "      <th>JOBSUBFUNCTION</th>\n",
       "      <th>LGTHOFSVC</th>\n",
       "      <th>TIMEINJOB</th>\n",
       "      <th>TIMEINPOSITION</th>\n",
       "      <th>COMPARATIO</th>\n",
       "      <th>GLBLDEPTLVL03</th>\n",
       "      <th>GLBLDEPTLVL04</th>\n",
       "      <th>GLBLDEPTLVL05</th>\n",
       "      <th>GLBLDEPTLVL06</th>\n",
       "      <th>Month_Year</th>\n",
       "      <th>CALYRMO</th>\n",
       "      <th>CATEGORY</th>\n",
       "      <th>VOL_INVOL</th>\n",
       "      <th>ACTIONDT</th>\n",
       "      <th>ACTION</th>\n",
       "      <th>ACTIONCD</th>\n",
       "      <th>REASON</th>\n",
       "      <th>RSNCD</th>\n",
       "      <th>Status</th>\n",
       "      <th>Country Level Manufacturing</th>\n",
       "      <th>Country Level Sales</th>\n",
       "      <th>Country Level R&amp;D</th>\n",
       "      <th>Country Level Finance</th>\n",
       "      <th>Country Level Legal</th>\n",
       "      <th>Country Level HR</th>\n",
       "      <th>Country Level IT</th>\n",
       "      <th>Country Level Pharma Other</th>\n",
       "      <th>Country Level Cost of Living Index</th>\n",
       "      <th>Country Level Traffic Index</th>\n",
       "      <th>Country Level Time Index (in minutes)</th>\n",
       "      <th>Country Level Time Ex Index</th>\n",
       "      <th>Country Level Inefficiencies Index</th>\n",
       "      <th>Country Level Unemployment Rate (%)</th>\n",
       "      <th>Country Level Corruption Perception Index</th>\n",
       "      <th>Country Level Inflation (%)</th>\n",
       "      <th>Country Level GDP (nominal) (in USD billion)</th>\n",
       "      <th>Country Level Pharma Industry Growth</th>\n",
       "      <th>Country Level Labor Market Risk Index Score</th>\n",
       "      <th>Country Level Political Risk Index Score</th>\n",
       "      <th>Country Level Power distance</th>\n",
       "      <th>Country Level Individualism</th>\n",
       "      <th>Country Level Masculinity</th>\n",
       "      <th>Country Level Uncertainty avoidance</th>\n",
       "      <th>Country Level Long term orientation</th>\n",
       "      <th>Country Level Indulgence</th>\n",
       "      <th>Year</th>\n",
       "    </tr>\n",
       "  </thead>\n",
       "  <tbody>\n",
       "    <tr>\n",
       "      <th>0</th>\n",
       "      <td>119341</td>\n",
       "      <td>00026264</td>\n",
       "      <td>10152554</td>\n",
       "      <td>10158817</td>\n",
       "      <td>10645908</td>\n",
       "      <td>10708518</td>\n",
       "      <td>5.0</td>\n",
       "      <td>Corporate Tax</td>\n",
       "      <td>800399</td>\n",
       "      <td>Global Operations</td>\n",
       "      <td>North America</td>\n",
       "      <td>United States</td>\n",
       "      <td>Peapack New Jersey</td>\n",
       "      <td>Global Operations</td>\n",
       "      <td>Global Operations</td>\n",
       "      <td>29.555099</td>\n",
       "      <td>2.587269</td>\n",
       "      <td>2.587269</td>\n",
       "      <td>1.190823</td>\n",
       "      <td>Finance &amp; Business Ops</td>\n",
       "      <td>Finance</td>\n",
       "      <td>Corporate Tax</td>\n",
       "      <td>NaN</td>\n",
       "      <td>January_2017</td>\n",
       "      <td>NaN</td>\n",
       "      <td>NaN</td>\n",
       "      <td>NaN</td>\n",
       "      <td>NaN</td>\n",
       "      <td>NaN</td>\n",
       "      <td>NaN</td>\n",
       "      <td>NaN</td>\n",
       "      <td>NaN</td>\n",
       "      <td>0</td>\n",
       "      <td>0.193002</td>\n",
       "      <td>0.197747</td>\n",
       "      <td>0.140796</td>\n",
       "      <td>0.174018</td>\n",
       "      <td>0.166108</td>\n",
       "      <td>0.178764</td>\n",
       "      <td>0.186674</td>\n",
       "      <td>0.233198</td>\n",
       "      <td>77.141081</td>\n",
       "      <td>181.42619</td>\n",
       "      <td>39.171905</td>\n",
       "      <td>2043.656667</td>\n",
       "      <td>208.704286</td>\n",
       "      <td>0.0436</td>\n",
       "      <td>74.0</td>\n",
       "      <td>0.021</td>\n",
       "      <td>19485.400</td>\n",
       "      <td>NaN</td>\n",
       "      <td>NaN</td>\n",
       "      <td>NaN</td>\n",
       "      <td>NaN</td>\n",
       "      <td>NaN</td>\n",
       "      <td>NaN</td>\n",
       "      <td>NaN</td>\n",
       "      <td>NaN</td>\n",
       "      <td>NaN</td>\n",
       "      <td>2017</td>\n",
       "    </tr>\n",
       "    <tr>\n",
       "      <th>1</th>\n",
       "      <td>134992</td>\n",
       "      <td>00026264</td>\n",
       "      <td>00047530</td>\n",
       "      <td>10551332</td>\n",
       "      <td>11241036</td>\n",
       "      <td>10233655</td>\n",
       "      <td>7.0</td>\n",
       "      <td>GSCPM</td>\n",
       "      <td>800390</td>\n",
       "      <td>Pfizer Global Supply</td>\n",
       "      <td>North America</td>\n",
       "      <td>United States</td>\n",
       "      <td>Pleasant Prairie W3 -  Hospira</td>\n",
       "      <td>Engineering</td>\n",
       "      <td>Engineering Maintenance</td>\n",
       "      <td>26.948665</td>\n",
       "      <td>0.577687</td>\n",
       "      <td>0.577687</td>\n",
       "      <td>NaN</td>\n",
       "      <td>GSCPM</td>\n",
       "      <td>NaN</td>\n",
       "      <td>NaN</td>\n",
       "      <td>NaN</td>\n",
       "      <td>January_2017</td>\n",
       "      <td>NaN</td>\n",
       "      <td>NaN</td>\n",
       "      <td>NaN</td>\n",
       "      <td>NaN</td>\n",
       "      <td>NaN</td>\n",
       "      <td>NaN</td>\n",
       "      <td>NaN</td>\n",
       "      <td>NaN</td>\n",
       "      <td>0</td>\n",
       "      <td>0.193002</td>\n",
       "      <td>0.197747</td>\n",
       "      <td>0.140796</td>\n",
       "      <td>0.174018</td>\n",
       "      <td>0.166108</td>\n",
       "      <td>0.178764</td>\n",
       "      <td>0.186674</td>\n",
       "      <td>0.233198</td>\n",
       "      <td>77.141081</td>\n",
       "      <td>181.42619</td>\n",
       "      <td>39.171905</td>\n",
       "      <td>2043.656667</td>\n",
       "      <td>208.704286</td>\n",
       "      <td>0.0436</td>\n",
       "      <td>74.0</td>\n",
       "      <td>0.021</td>\n",
       "      <td>19485.400</td>\n",
       "      <td>NaN</td>\n",
       "      <td>NaN</td>\n",
       "      <td>NaN</td>\n",
       "      <td>NaN</td>\n",
       "      <td>NaN</td>\n",
       "      <td>NaN</td>\n",
       "      <td>NaN</td>\n",
       "      <td>NaN</td>\n",
       "      <td>NaN</td>\n",
       "      <td>2017</td>\n",
       "    </tr>\n",
       "    <tr>\n",
       "      <th>2</th>\n",
       "      <td>78068</td>\n",
       "      <td>00026264</td>\n",
       "      <td>00047530</td>\n",
       "      <td>10551332</td>\n",
       "      <td>11241036</td>\n",
       "      <td>11240229</td>\n",
       "      <td>7.0</td>\n",
       "      <td>Pfizer Global Supply</td>\n",
       "      <td>800066</td>\n",
       "      <td>Pfizer Global Supply</td>\n",
       "      <td>North America</td>\n",
       "      <td>United States</td>\n",
       "      <td>Peapack New Jersey</td>\n",
       "      <td>Logistics &amp; Supply Chain Mgmt</td>\n",
       "      <td>Supply Chain Functions</td>\n",
       "      <td>14.069815</td>\n",
       "      <td>0.060233</td>\n",
       "      <td>0.060233</td>\n",
       "      <td>0.974331</td>\n",
       "      <td>NaN</td>\n",
       "      <td>NaN</td>\n",
       "      <td>NaN</td>\n",
       "      <td>NaN</td>\n",
       "      <td>January_2017</td>\n",
       "      <td>NaN</td>\n",
       "      <td>NaN</td>\n",
       "      <td>NaN</td>\n",
       "      <td>NaN</td>\n",
       "      <td>NaN</td>\n",
       "      <td>NaN</td>\n",
       "      <td>NaN</td>\n",
       "      <td>NaN</td>\n",
       "      <td>0</td>\n",
       "      <td>0.193002</td>\n",
       "      <td>0.197747</td>\n",
       "      <td>0.140796</td>\n",
       "      <td>0.174018</td>\n",
       "      <td>0.166108</td>\n",
       "      <td>0.178764</td>\n",
       "      <td>0.186674</td>\n",
       "      <td>0.233198</td>\n",
       "      <td>77.141081</td>\n",
       "      <td>181.42619</td>\n",
       "      <td>39.171905</td>\n",
       "      <td>2043.656667</td>\n",
       "      <td>208.704286</td>\n",
       "      <td>0.0436</td>\n",
       "      <td>74.0</td>\n",
       "      <td>0.021</td>\n",
       "      <td>19485.400</td>\n",
       "      <td>NaN</td>\n",
       "      <td>NaN</td>\n",
       "      <td>NaN</td>\n",
       "      <td>NaN</td>\n",
       "      <td>NaN</td>\n",
       "      <td>NaN</td>\n",
       "      <td>NaN</td>\n",
       "      <td>NaN</td>\n",
       "      <td>NaN</td>\n",
       "      <td>2017</td>\n",
       "    </tr>\n",
       "    <tr>\n",
       "      <th>3</th>\n",
       "      <td>146210</td>\n",
       "      <td>00026264</td>\n",
       "      <td>10551122</td>\n",
       "      <td>10608626</td>\n",
       "      <td>10140857</td>\n",
       "      <td>00132102</td>\n",
       "      <td>8.0</td>\n",
       "      <td>PSSM Drug Product Supply</td>\n",
       "      <td>803386</td>\n",
       "      <td>Worldwide Research &amp; Development</td>\n",
       "      <td>North America</td>\n",
       "      <td>United States</td>\n",
       "      <td>Groton, Connecticut</td>\n",
       "      <td>Logistics &amp; Supply Chain Mgmt</td>\n",
       "      <td>Logistics &amp; Supply Chain Mgmt</td>\n",
       "      <td>14.088980</td>\n",
       "      <td>3.835729</td>\n",
       "      <td>3.835729</td>\n",
       "      <td>1.113577</td>\n",
       "      <td>Medicinal Sciences</td>\n",
       "      <td>Pharm Sci Small Molecule</td>\n",
       "      <td>PSSM Drug Product Supply</td>\n",
       "      <td>NaN</td>\n",
       "      <td>January_2017</td>\n",
       "      <td>NaN</td>\n",
       "      <td>NaN</td>\n",
       "      <td>NaN</td>\n",
       "      <td>NaN</td>\n",
       "      <td>NaN</td>\n",
       "      <td>NaN</td>\n",
       "      <td>NaN</td>\n",
       "      <td>NaN</td>\n",
       "      <td>0</td>\n",
       "      <td>0.193002</td>\n",
       "      <td>0.197747</td>\n",
       "      <td>0.140796</td>\n",
       "      <td>0.174018</td>\n",
       "      <td>0.166108</td>\n",
       "      <td>0.178764</td>\n",
       "      <td>0.186674</td>\n",
       "      <td>0.233198</td>\n",
       "      <td>77.141081</td>\n",
       "      <td>181.42619</td>\n",
       "      <td>39.171905</td>\n",
       "      <td>2043.656667</td>\n",
       "      <td>208.704286</td>\n",
       "      <td>0.0436</td>\n",
       "      <td>74.0</td>\n",
       "      <td>0.021</td>\n",
       "      <td>19485.400</td>\n",
       "      <td>NaN</td>\n",
       "      <td>NaN</td>\n",
       "      <td>NaN</td>\n",
       "      <td>NaN</td>\n",
       "      <td>NaN</td>\n",
       "      <td>NaN</td>\n",
       "      <td>NaN</td>\n",
       "      <td>NaN</td>\n",
       "      <td>NaN</td>\n",
       "      <td>2017</td>\n",
       "    </tr>\n",
       "    <tr>\n",
       "      <th>4</th>\n",
       "      <td>14471</td>\n",
       "      <td>00026264</td>\n",
       "      <td>10655662</td>\n",
       "      <td>11269189</td>\n",
       "      <td>10655733</td>\n",
       "      <td>10261243</td>\n",
       "      <td>6.0</td>\n",
       "      <td>GEP Germany</td>\n",
       "      <td>802585</td>\n",
       "      <td>Pfizer Essential Health (PEH)</td>\n",
       "      <td>Europe</td>\n",
       "      <td>Germany</td>\n",
       "      <td>Berlin</td>\n",
       "      <td>Marketing and Market Research</td>\n",
       "      <td>Product Mgmt/Brand Marketing</td>\n",
       "      <td>12.501027</td>\n",
       "      <td>6.053388</td>\n",
       "      <td>7.835729</td>\n",
       "      <td>NaN</td>\n",
       "      <td>GEP - Europe</td>\n",
       "      <td>GEP Germany</td>\n",
       "      <td>NaN</td>\n",
       "      <td>NaN</td>\n",
       "      <td>January_2017</td>\n",
       "      <td>NaN</td>\n",
       "      <td>NaN</td>\n",
       "      <td>NaN</td>\n",
       "      <td>NaN</td>\n",
       "      <td>NaN</td>\n",
       "      <td>NaN</td>\n",
       "      <td>NaN</td>\n",
       "      <td>NaN</td>\n",
       "      <td>0</td>\n",
       "      <td>0.173282</td>\n",
       "      <td>0.177543</td>\n",
       "      <td>0.126411</td>\n",
       "      <td>0.156238</td>\n",
       "      <td>0.149136</td>\n",
       "      <td>0.160499</td>\n",
       "      <td>0.167600</td>\n",
       "      <td>0.175368</td>\n",
       "      <td>67.616667</td>\n",
       "      <td>96.49500</td>\n",
       "      <td>33.000000</td>\n",
       "      <td>321.450000</td>\n",
       "      <td>112.645000</td>\n",
       "      <td>0.0375</td>\n",
       "      <td>81.0</td>\n",
       "      <td>0.017</td>\n",
       "      <td>3700.613</td>\n",
       "      <td>0.048928</td>\n",
       "      <td>NaN</td>\n",
       "      <td>NaN</td>\n",
       "      <td>NaN</td>\n",
       "      <td>NaN</td>\n",
       "      <td>NaN</td>\n",
       "      <td>NaN</td>\n",
       "      <td>NaN</td>\n",
       "      <td>NaN</td>\n",
       "      <td>2017</td>\n",
       "    </tr>\n",
       "  </tbody>\n",
       "</table>\n",
       "</div>"
      ],
      "text/plain": [
       "   RandomID POS_LEVEL1 POS_LEVEL2 POS_LEVEL3 POS_LEVEL4 POS_LEVEL5  \\\n",
       "0    119341   00026264   10152554   10158817   10645908   10708518   \n",
       "1    134992   00026264   00047530   10551332   11241036   10233655   \n",
       "2     78068   00026264   00047530   10551332   11241036   11240229   \n",
       "3    146210   00026264   10551122   10608626   10140857   00132102   \n",
       "4     14471   00026264   10655662   11269189   10655733   10261243   \n",
       "\n",
       "   POSITIONLVL                DEPARTMENT  DEPTCD  \\\n",
       "0          5.0             Corporate Tax  800399   \n",
       "1          7.0                     GSCPM  800390   \n",
       "2          7.0      Pfizer Global Supply  800066   \n",
       "3          8.0  PSSM Drug Product Supply  803386   \n",
       "4          6.0               GEP Germany  802585   \n",
       "\n",
       "                   RPTG_DIV_MAPPING         REGION        COUNTRY  \\\n",
       "0                 Global Operations  North America  United States   \n",
       "1              Pfizer Global Supply  North America  United States   \n",
       "2              Pfizer Global Supply  North America  United States   \n",
       "3  Worldwide Research & Development  North America  United States   \n",
       "4     Pfizer Essential Health (PEH)         Europe        Germany   \n",
       "\n",
       "                         LOCATION                   JOB_FUNCTION  \\\n",
       "0              Peapack New Jersey              Global Operations   \n",
       "1  Pleasant Prairie W3 -  Hospira                    Engineering   \n",
       "2              Peapack New Jersey  Logistics & Supply Chain Mgmt   \n",
       "3             Groton, Connecticut  Logistics & Supply Chain Mgmt   \n",
       "4                          Berlin  Marketing and Market Research   \n",
       "\n",
       "                  JOBSUBFUNCTION  LGTHOFSVC  TIMEINJOB  TIMEINPOSITION  \\\n",
       "0              Global Operations  29.555099   2.587269        2.587269   \n",
       "1        Engineering Maintenance  26.948665   0.577687        0.577687   \n",
       "2         Supply Chain Functions  14.069815   0.060233        0.060233   \n",
       "3  Logistics & Supply Chain Mgmt  14.088980   3.835729        3.835729   \n",
       "4   Product Mgmt/Brand Marketing  12.501027   6.053388        7.835729   \n",
       "\n",
       "   COMPARATIO           GLBLDEPTLVL03             GLBLDEPTLVL04  \\\n",
       "0    1.190823  Finance & Business Ops                   Finance   \n",
       "1         NaN                   GSCPM                       NaN   \n",
       "2    0.974331                     NaN                       NaN   \n",
       "3    1.113577      Medicinal Sciences  Pharm Sci Small Molecule   \n",
       "4         NaN            GEP - Europe               GEP Germany   \n",
       "\n",
       "              GLBLDEPTLVL05 GLBLDEPTLVL06    Month_Year  CALYRMO CATEGORY  \\\n",
       "0             Corporate Tax           NaN  January_2017      NaN      NaN   \n",
       "1                       NaN           NaN  January_2017      NaN      NaN   \n",
       "2                       NaN           NaN  January_2017      NaN      NaN   \n",
       "3  PSSM Drug Product Supply           NaN  January_2017      NaN      NaN   \n",
       "4                       NaN           NaN  January_2017      NaN      NaN   \n",
       "\n",
       "  VOL_INVOL ACTIONDT ACTION ACTIONCD REASON RSNCD  Status  \\\n",
       "0       NaN      NaN    NaN      NaN    NaN   NaN       0   \n",
       "1       NaN      NaN    NaN      NaN    NaN   NaN       0   \n",
       "2       NaN      NaN    NaN      NaN    NaN   NaN       0   \n",
       "3       NaN      NaN    NaN      NaN    NaN   NaN       0   \n",
       "4       NaN      NaN    NaN      NaN    NaN   NaN       0   \n",
       "\n",
       "   Country Level Manufacturing  Country Level Sales  Country Level R&D  \\\n",
       "0                     0.193002             0.197747           0.140796   \n",
       "1                     0.193002             0.197747           0.140796   \n",
       "2                     0.193002             0.197747           0.140796   \n",
       "3                     0.193002             0.197747           0.140796   \n",
       "4                     0.173282             0.177543           0.126411   \n",
       "\n",
       "   Country Level Finance  Country Level Legal  Country Level HR  \\\n",
       "0               0.174018             0.166108          0.178764   \n",
       "1               0.174018             0.166108          0.178764   \n",
       "2               0.174018             0.166108          0.178764   \n",
       "3               0.174018             0.166108          0.178764   \n",
       "4               0.156238             0.149136          0.160499   \n",
       "\n",
       "   Country Level IT  Country Level Pharma Other  \\\n",
       "0          0.186674                    0.233198   \n",
       "1          0.186674                    0.233198   \n",
       "2          0.186674                    0.233198   \n",
       "3          0.186674                    0.233198   \n",
       "4          0.167600                    0.175368   \n",
       "\n",
       "   Country Level Cost of Living Index  Country Level Traffic Index  \\\n",
       "0                           77.141081                    181.42619   \n",
       "1                           77.141081                    181.42619   \n",
       "2                           77.141081                    181.42619   \n",
       "3                           77.141081                    181.42619   \n",
       "4                           67.616667                     96.49500   \n",
       "\n",
       "   Country Level Time Index (in minutes)  Country Level Time Ex Index  \\\n",
       "0                              39.171905                  2043.656667   \n",
       "1                              39.171905                  2043.656667   \n",
       "2                              39.171905                  2043.656667   \n",
       "3                              39.171905                  2043.656667   \n",
       "4                              33.000000                   321.450000   \n",
       "\n",
       "   Country Level Inefficiencies Index  Country Level Unemployment Rate (%)  \\\n",
       "0                          208.704286                               0.0436   \n",
       "1                          208.704286                               0.0436   \n",
       "2                          208.704286                               0.0436   \n",
       "3                          208.704286                               0.0436   \n",
       "4                          112.645000                               0.0375   \n",
       "\n",
       "   Country Level Corruption Perception Index  Country Level Inflation (%)  \\\n",
       "0                                       74.0                        0.021   \n",
       "1                                       74.0                        0.021   \n",
       "2                                       74.0                        0.021   \n",
       "3                                       74.0                        0.021   \n",
       "4                                       81.0                        0.017   \n",
       "\n",
       "   Country Level GDP (nominal) (in USD billion)  \\\n",
       "0                                     19485.400   \n",
       "1                                     19485.400   \n",
       "2                                     19485.400   \n",
       "3                                     19485.400   \n",
       "4                                      3700.613   \n",
       "\n",
       "   Country Level Pharma Industry Growth  \\\n",
       "0                                   NaN   \n",
       "1                                   NaN   \n",
       "2                                   NaN   \n",
       "3                                   NaN   \n",
       "4                              0.048928   \n",
       "\n",
       "   Country Level Labor Market Risk Index Score  \\\n",
       "0                                          NaN   \n",
       "1                                          NaN   \n",
       "2                                          NaN   \n",
       "3                                          NaN   \n",
       "4                                          NaN   \n",
       "\n",
       "   Country Level Political Risk Index Score  Country Level Power distance  \\\n",
       "0                                       NaN                           NaN   \n",
       "1                                       NaN                           NaN   \n",
       "2                                       NaN                           NaN   \n",
       "3                                       NaN                           NaN   \n",
       "4                                       NaN                           NaN   \n",
       "\n",
       "   Country Level Individualism  Country Level Masculinity  \\\n",
       "0                          NaN                        NaN   \n",
       "1                          NaN                        NaN   \n",
       "2                          NaN                        NaN   \n",
       "3                          NaN                        NaN   \n",
       "4                          NaN                        NaN   \n",
       "\n",
       "   Country Level Uncertainty avoidance  Country Level Long term orientation  \\\n",
       "0                                  NaN                                  NaN   \n",
       "1                                  NaN                                  NaN   \n",
       "2                                  NaN                                  NaN   \n",
       "3                                  NaN                                  NaN   \n",
       "4                                  NaN                                  NaN   \n",
       "\n",
       "   Country Level Indulgence  Year  \n",
       "0                       NaN  2017  \n",
       "1                       NaN  2017  \n",
       "2                       NaN  2017  \n",
       "3                       NaN  2017  \n",
       "4                       NaN  2017  "
      ]
     },
     "execution_count": 5,
     "metadata": {},
     "output_type": "execute_result"
    }
   ],
   "source": [
    "df.head()"
   ]
  },
  {
   "cell_type": "code",
   "execution_count": 6,
   "metadata": {},
   "outputs": [
    {
     "name": "stdout",
     "output_type": "stream",
     "text": [
      "<class 'pandas.core.frame.DataFrame'>\n",
      "RangeIndex: 4723161 entries, 0 to 4723160\n",
      "Data columns (total 60 columns):\n",
      " #   Column                                        Dtype  \n",
      "---  ------                                        -----  \n",
      " 0   RandomID                                      int64  \n",
      " 1   POS_LEVEL1                                    object \n",
      " 2   POS_LEVEL2                                    object \n",
      " 3   POS_LEVEL3                                    object \n",
      " 4   POS_LEVEL4                                    object \n",
      " 5   POS_LEVEL5                                    object \n",
      " 6   POSITIONLVL                                   float64\n",
      " 7   DEPARTMENT                                    object \n",
      " 8   DEPTCD                                        object \n",
      " 9   RPTG_DIV_MAPPING                              object \n",
      " 10  REGION                                        object \n",
      " 11  COUNTRY                                       object \n",
      " 12  LOCATION                                      object \n",
      " 13  JOB_FUNCTION                                  object \n",
      " 14  JOBSUBFUNCTION                                object \n",
      " 15  LGTHOFSVC                                     float64\n",
      " 16  TIMEINJOB                                     float64\n",
      " 17  TIMEINPOSITION                                float64\n",
      " 18  COMPARATIO                                    float64\n",
      " 19  GLBLDEPTLVL03                                 object \n",
      " 20  GLBLDEPTLVL04                                 object \n",
      " 21  GLBLDEPTLVL05                                 object \n",
      " 22  GLBLDEPTLVL06                                 object \n",
      " 23  Month_Year                                    object \n",
      " 24  CALYRMO                                       float64\n",
      " 25  CATEGORY                                      object \n",
      " 26  VOL_INVOL                                     object \n",
      " 27  ACTIONDT                                      object \n",
      " 28  ACTION                                        object \n",
      " 29  ACTIONCD                                      object \n",
      " 30  REASON                                        object \n",
      " 31  RSNCD                                         object \n",
      " 32  Status                                        int64  \n",
      " 33  Country Level Manufacturing                   float64\n",
      " 34  Country Level Sales                           float64\n",
      " 35  Country Level R&D                             float64\n",
      " 36  Country Level Finance                         float64\n",
      " 37  Country Level Legal                           float64\n",
      " 38  Country Level HR                              float64\n",
      " 39  Country Level IT                              float64\n",
      " 40  Country Level Pharma Other                    float64\n",
      " 41  Country Level Cost of Living Index            float64\n",
      " 42  Country Level Traffic Index                   float64\n",
      " 43  Country Level Time Index (in minutes)         float64\n",
      " 44  Country Level Time Ex Index                   float64\n",
      " 45  Country Level Inefficiencies Index            float64\n",
      " 46  Country Level Unemployment Rate (%)           float64\n",
      " 47  Country Level Corruption Perception Index     float64\n",
      " 48  Country Level Inflation (%)                   float64\n",
      " 49  Country Level GDP (nominal) (in USD billion)  float64\n",
      " 50  Country Level Pharma Industry Growth          float64\n",
      " 51  Country Level Labor Market Risk Index Score   float64\n",
      " 52  Country Level Political Risk Index Score      float64\n",
      " 53  Country Level Power distance                  float64\n",
      " 54  Country Level Individualism                   float64\n",
      " 55  Country Level Masculinity                     float64\n",
      " 56  Country Level Uncertainty avoidance           float64\n",
      " 57  Country Level Long term orientation           float64\n",
      " 58  Country Level Indulgence                      float64\n",
      " 59  Year                                          int64  \n",
      "dtypes: float64(32), int64(3), object(25)\n",
      "memory usage: 2.1+ GB\n"
     ]
    }
   ],
   "source": [
    "df.info()"
   ]
  },
  {
   "cell_type": "code",
   "execution_count": 7,
   "metadata": {},
   "outputs": [],
   "source": [
    "df_LS = df[['LGTHOFSVC', 'Status']]"
   ]
  },
  {
   "cell_type": "code",
   "execution_count": 8,
   "metadata": {},
   "outputs": [
    {
     "data": {
      "text/html": [
       "<div>\n",
       "<style scoped>\n",
       "    .dataframe tbody tr th:only-of-type {\n",
       "        vertical-align: middle;\n",
       "    }\n",
       "\n",
       "    .dataframe tbody tr th {\n",
       "        vertical-align: top;\n",
       "    }\n",
       "\n",
       "    .dataframe thead th {\n",
       "        text-align: right;\n",
       "    }\n",
       "</style>\n",
       "<table border=\"1\" class=\"dataframe\">\n",
       "  <thead>\n",
       "    <tr style=\"text-align: right;\">\n",
       "      <th></th>\n",
       "      <th>LGTHOFSVC</th>\n",
       "      <th>Status</th>\n",
       "    </tr>\n",
       "  </thead>\n",
       "  <tbody>\n",
       "    <tr>\n",
       "      <th>0</th>\n",
       "      <td>29.555099</td>\n",
       "      <td>0</td>\n",
       "    </tr>\n",
       "    <tr>\n",
       "      <th>1</th>\n",
       "      <td>26.948665</td>\n",
       "      <td>0</td>\n",
       "    </tr>\n",
       "    <tr>\n",
       "      <th>2</th>\n",
       "      <td>14.069815</td>\n",
       "      <td>0</td>\n",
       "    </tr>\n",
       "    <tr>\n",
       "      <th>3</th>\n",
       "      <td>14.088980</td>\n",
       "      <td>0</td>\n",
       "    </tr>\n",
       "    <tr>\n",
       "      <th>4</th>\n",
       "      <td>12.501027</td>\n",
       "      <td>0</td>\n",
       "    </tr>\n",
       "  </tbody>\n",
       "</table>\n",
       "</div>"
      ],
      "text/plain": [
       "   LGTHOFSVC  Status\n",
       "0  29.555099       0\n",
       "1  26.948665       0\n",
       "2  14.069815       0\n",
       "3  14.088980       0\n",
       "4  12.501027       0"
      ]
     },
     "execution_count": 8,
     "metadata": {},
     "output_type": "execute_result"
    }
   ],
   "source": [
    "df_LS.head()"
   ]
  },
  {
   "cell_type": "code",
   "execution_count": 9,
   "metadata": {},
   "outputs": [
    {
     "data": {
      "text/plain": [
       "LGTHOFSVC    12504\n",
       "Status           0\n",
       "dtype: int64"
      ]
     },
     "execution_count": 9,
     "metadata": {},
     "output_type": "execute_result"
    }
   ],
   "source": [
    "df_LS.isnull().sum()"
   ]
  },
  {
   "cell_type": "code",
   "execution_count": 10,
   "metadata": {},
   "outputs": [],
   "source": [
    "df_LS = df_LS.dropna()"
   ]
  },
  {
   "cell_type": "code",
   "execution_count": 12,
   "metadata": {},
   "outputs": [
    {
     "data": {
      "text/plain": [
       "LGTHOFSVC    0\n",
       "Status       0\n",
       "dtype: int64"
      ]
     },
     "execution_count": 12,
     "metadata": {},
     "output_type": "execute_result"
    }
   ],
   "source": [
    "df_LS.isnull().sum()"
   ]
  },
  {
   "cell_type": "code",
   "execution_count": 13,
   "metadata": {},
   "outputs": [],
   "source": [
    "from lifelines import KaplanMeierFitter"
   ]
  },
  {
   "cell_type": "code",
   "execution_count": 21,
   "metadata": {},
   "outputs": [],
   "source": [
    "kmf_LS = KaplanMeierFitter()"
   ]
  },
  {
   "cell_type": "code",
   "execution_count": 22,
   "metadata": {},
   "outputs": [
    {
     "data": {
      "text/plain": [
       "Index(['LGTHOFSVC', 'Status'], dtype='object')"
      ]
     },
     "execution_count": 22,
     "metadata": {},
     "output_type": "execute_result"
    }
   ],
   "source": [
    "df_LS.columns"
   ]
  },
  {
   "cell_type": "code",
   "execution_count": 34,
   "metadata": {},
   "outputs": [
    {
     "data": {
      "text/plain": [
       "23"
      ]
     },
     "execution_count": 34,
     "metadata": {},
     "output_type": "execute_result"
    }
   ],
   "source": [
    "# take out rows where the length of service is less than 0\n",
    "mistake_filter = df_LS['LGTHOFSVC'] < 0\n",
    "df_LS[mistake_filter].shape[0]"
   ]
  },
  {
   "cell_type": "code",
   "execution_count": 35,
   "metadata": {},
   "outputs": [],
   "source": [
    "df_LS = df_LS[~mistake_filter]"
   ]
  },
  {
   "cell_type": "code",
   "execution_count": 37,
   "metadata": {},
   "outputs": [],
   "source": [
    "T = df_LS['LGTHOFSVC']\n",
    "E = df_LS['Status']"
   ]
  },
  {
   "cell_type": "code",
   "execution_count": 38,
   "metadata": {},
   "outputs": [
    {
     "data": {
      "text/plain": [
       "<lifelines.KaplanMeierFitter:\"KM_estimate\", fitted with 4.71063e+06 total observations, 4.70601e+06 right-censored observations>"
      ]
     },
     "execution_count": 38,
     "metadata": {},
     "output_type": "execute_result"
    }
   ],
   "source": [
    "kmf_LS.fit(T, event_observed=E)"
   ]
  },
  {
   "cell_type": "code",
   "execution_count": 39,
   "metadata": {},
   "outputs": [
    {
     "data": {
      "text/plain": [
       "<AxesSubplot:xlabel='timeline'>"
      ]
     },
     "execution_count": 39,
     "metadata": {},
     "output_type": "execute_result"
    },
    {
     "data": {
      "image/png": "[encoded data removed]",
      "text/plain": [
       "<Figure size 432x288 with 1 Axes>"
      ]
     },
     "metadata": {
      "needs_background": "light"
     },
     "output_type": "display_data"
    }
   ],
   "source": [
    "kmf_LS.survival_function_.plot()"
   ]
  },
  {
   "cell_type": "code",
   "execution_count": 27,
   "metadata": {},
   "outputs": [],
   "source": [
    "df_TiJ = df[['TIMEINJOB', 'Status']]"
   ]
  },
  {
   "cell_type": "code",
   "execution_count": 28,
   "metadata": {},
   "outputs": [
    {
     "data": {
      "text/html": [
       "<div>\n",
       "<style scoped>\n",
       "    .dataframe tbody tr th:only-of-type {\n",
       "        vertical-align: middle;\n",
       "    }\n",
       "\n",
       "    .dataframe tbody tr th {\n",
       "        vertical-align: top;\n",
       "    }\n",
       "\n",
       "    .dataframe thead th {\n",
       "        text-align: right;\n",
       "    }\n",
       "</style>\n",
       "<table border=\"1\" class=\"dataframe\">\n",
       "  <thead>\n",
       "    <tr style=\"text-align: right;\">\n",
       "      <th></th>\n",
       "      <th>TIMEINJOB</th>\n",
       "      <th>Status</th>\n",
       "    </tr>\n",
       "  </thead>\n",
       "  <tbody>\n",
       "    <tr>\n",
       "      <th>0</th>\n",
       "      <td>2.587269</td>\n",
       "      <td>0</td>\n",
       "    </tr>\n",
       "    <tr>\n",
       "      <th>1</th>\n",
       "      <td>0.577687</td>\n",
       "      <td>0</td>\n",
       "    </tr>\n",
       "    <tr>\n",
       "      <th>2</th>\n",
       "      <td>0.060233</td>\n",
       "      <td>0</td>\n",
       "    </tr>\n",
       "    <tr>\n",
       "      <th>3</th>\n",
       "      <td>3.835729</td>\n",
       "      <td>0</td>\n",
       "    </tr>\n",
       "    <tr>\n",
       "      <th>4</th>\n",
       "      <td>6.053388</td>\n",
       "      <td>0</td>\n",
       "    </tr>\n",
       "  </tbody>\n",
       "</table>\n",
       "</div>"
      ],
      "text/plain": [
       "   TIMEINJOB  Status\n",
       "0   2.587269       0\n",
       "1   0.577687       0\n",
       "2   0.060233       0\n",
       "3   3.835729       0\n",
       "4   6.053388       0"
      ]
     },
     "execution_count": 28,
     "metadata": {},
     "output_type": "execute_result"
    }
   ],
   "source": [
    "df_TiJ.head()"
   ]
  },
  {
   "cell_type": "code",
   "execution_count": 29,
   "metadata": {},
   "outputs": [
    {
     "data": {
      "text/plain": [
       "TIMEINJOB    5577\n",
       "Status          0\n",
       "dtype: int64"
      ]
     },
     "execution_count": 29,
     "metadata": {},
     "output_type": "execute_result"
    }
   ],
   "source": [
    "df_TiJ.isnull().sum()"
   ]
  },
  {
   "cell_type": "code",
   "execution_count": 30,
   "metadata": {},
   "outputs": [],
   "source": [
    "df_TiJ = df_TiJ.dropna()"
   ]
  },
  {
   "cell_type": "code",
   "execution_count": 41,
   "metadata": {},
   "outputs": [
    {
     "data": {
      "text/plain": [
       "TIMEINJOB    0\n",
       "Status       0\n",
       "dtype: int64"
      ]
     },
     "execution_count": 41,
     "metadata": {},
     "output_type": "execute_result"
    }
   ],
   "source": [
    "df_TiJ.isnull().sum()"
   ]
  },
  {
   "cell_type": "code",
   "execution_count": 42,
   "metadata": {},
   "outputs": [
    {
     "data": {
      "text/plain": [
       "Index(['TIMEINJOB', 'Status'], dtype='object')"
      ]
     },
     "execution_count": 42,
     "metadata": {},
     "output_type": "execute_result"
    }
   ],
   "source": [
    "df_TiJ.columns"
   ]
  },
  {
   "cell_type": "code",
   "execution_count": 44,
   "metadata": {},
   "outputs": [],
   "source": [
    "mistake_filter = df_TiJ['TIMEINJOB'] < 0"
   ]
  },
  {
   "cell_type": "code",
   "execution_count": 46,
   "metadata": {},
   "outputs": [
    {
     "data": {
      "text/plain": [
       "61"
      ]
     },
     "execution_count": 46,
     "metadata": {},
     "output_type": "execute_result"
    }
   ],
   "source": [
    "df_TiJ[mistake_filter].shape[0]"
   ]
  },
  {
   "cell_type": "code",
   "execution_count": 47,
   "metadata": {},
   "outputs": [],
   "source": [
    "df_TiJ = df_TiJ[~mistake_filter]"
   ]
  },
  {
   "cell_type": "code",
   "execution_count": 49,
   "metadata": {},
   "outputs": [],
   "source": [
    "T = df_TiJ['TIMEINJOB']\n",
    "E = df_TiJ['Status']"
   ]
  },
  {
   "cell_type": "code",
   "execution_count": 50,
   "metadata": {},
   "outputs": [],
   "source": [
    "kmf_TiJ = KaplanMeierFitter()"
   ]
  },
  {
   "cell_type": "code",
   "execution_count": 51,
   "metadata": {},
   "outputs": [
    {
     "data": {
      "text/plain": [
       "<lifelines.KaplanMeierFitter:\"KM_estimate\", fitted with 4.71752e+06 total observations, 4.7129e+06 right-censored observations>"
      ]
     },
     "execution_count": 51,
     "metadata": {},
     "output_type": "execute_result"
    }
   ],
   "source": [
    "kmf_TiJ.fit(T, event_observed=E)"
   ]
  },
  {
   "cell_type": "code",
   "execution_count": 52,
   "metadata": {},
   "outputs": [
    {
     "data": {
      "text/plain": [
       "<AxesSubplot:xlabel='timeline'>"
      ]
     },
     "execution_count": 52,
     "metadata": {},
     "output_type": "execute_result"
    },
    {
     "data": {
      "image/png": "[encoded data removed]",
      "text/plain": [
       "<Figure size 432x288 with 1 Axes>"
      ]
     },
     "metadata": {
      "needs_background": "light"
     },
     "output_type": "display_data"
    }
   ],
   "source": [
    "kmf_TiJ.survival_function_.plot()"
   ]
  },
  {
   "cell_type": "code",
   "execution_count": 55,
   "metadata": {},
   "outputs": [],
   "source": [
    "df_TiP = df[['TIMEINPOSITION', 'Status']]"
   ]
  },
  {
   "cell_type": "code",
   "execution_count": 56,
   "metadata": {},
   "outputs": [],
   "source": [
    "df_TiP = df_TiP.dropna()"
   ]
  },
  {
   "cell_type": "code",
   "execution_count": 57,
   "metadata": {},
   "outputs": [
    {
     "data": {
      "text/plain": [
       "TIMEINPOSITION    0\n",
       "Status            0\n",
       "dtype: int64"
      ]
     },
     "execution_count": 57,
     "metadata": {},
     "output_type": "execute_result"
    }
   ],
   "source": [
    "df_TiP.isnull().sum()"
   ]
  },
  {
   "cell_type": "code",
   "execution_count": 59,
   "metadata": {},
   "outputs": [],
   "source": [
    "T = df_TiP['TIMEINPOSITION']\n",
    "E = df_TiP['Status']"
   ]
  },
  {
   "cell_type": "code",
   "execution_count": 60,
   "metadata": {},
   "outputs": [],
   "source": [
    "kmf_TiP = KaplanMeierFitter()"
   ]
  },
  {
   "cell_type": "code",
   "execution_count": 61,
   "metadata": {},
   "outputs": [
    {
     "data": {
      "text/plain": [
       "<lifelines.KaplanMeierFitter:\"KM_estimate\", fitted with 4.71589e+06 total observations, 4.71126e+06 right-censored observations>"
      ]
     },
     "execution_count": 61,
     "metadata": {},
     "output_type": "execute_result"
    }
   ],
   "source": [
    "kmf_TiP.fit(T, event_observed=E)"
   ]
  },
  {
   "cell_type": "code",
   "execution_count": 62,
   "metadata": {},
   "outputs": [
    {
     "data": {
      "text/plain": [
       "<AxesSubplot:xlabel='timeline'>"
      ]
     },
     "execution_count": 62,
     "metadata": {},
     "output_type": "execute_result"
    },
    {
     "data": {
      "image/png": "[encoded data removed]",
      "text/plain": [
       "<Figure size 432x288 with 1 Axes>"
      ]
     },
     "metadata": {
      "needs_background": "light"
     },
     "output_type": "display_data"
    }
   ],
   "source": [
    "kmf_TiP.survival_function_.plot()"
   ]
  },
  {
   "cell_type": "code",
   "execution_count": 64,
   "metadata": {},
   "outputs": [],
   "source": [
    "from lifelines.utils import median_survival_times\n",
    "median_ci = median_survival_times(kmf_TiP.confidence_interval_)"
   ]
  },
  {
   "cell_type": "code",
   "execution_count": 65,
   "metadata": {},
   "outputs": [
    {
     "data": {
      "text/html": [
       "<div>\n",
       "<style scoped>\n",
       "    .dataframe tbody tr th:only-of-type {\n",
       "        vertical-align: middle;\n",
       "    }\n",
       "\n",
       "    .dataframe tbody tr th {\n",
       "        vertical-align: top;\n",
       "    }\n",
       "\n",
       "    .dataframe thead th {\n",
       "        text-align: right;\n",
       "    }\n",
       "</style>\n",
       "<table border=\"1\" class=\"dataframe\">\n",
       "  <thead>\n",
       "    <tr style=\"text-align: right;\">\n",
       "      <th></th>\n",
       "      <th>KM_estimate_lower_0.95</th>\n",
       "      <th>KM_estimate_upper_0.95</th>\n",
       "    </tr>\n",
       "  </thead>\n",
       "  <tbody>\n",
       "    <tr>\n",
       "      <th>0.5</th>\n",
       "      <td>inf</td>\n",
       "      <td>inf</td>\n",
       "    </tr>\n",
       "  </tbody>\n",
       "</table>\n",
       "</div>"
      ],
      "text/plain": [
       "     KM_estimate_lower_0.95  KM_estimate_upper_0.95\n",
       "0.5                     inf                     inf"
      ]
     },
     "execution_count": 65,
     "metadata": {},
     "output_type": "execute_result"
    }
   ],
   "source": [
    "median_ci"
   ]
  },
  {
   "cell_type": "code",
   "execution_count": null,
   "metadata": {},
   "outputs": [],
   "source": []
  },
  {
   "cell_type": "code",
   "execution_count": null,
   "metadata": {},
   "outputs": [],
   "source": []
  }
 ],
 "metadata": {
  "kernelspec": {
   "display_name": "Python 3",
   "language": "python",
   "name": "python3"
  },
  "language_info": {
   "codemirror_mode": {
    "name": "ipython",
    "version": 3
   },
   "file_extension": ".py",
   "mimetype": "text/x-python",
   "name": "python",
   "nbconvert_exporter": "python",
   "pygments_lexer": "ipython3",
   "version": "3.8.5"
  }
 },
 "nbformat": 4,
 "nbformat_minor": 4
}
