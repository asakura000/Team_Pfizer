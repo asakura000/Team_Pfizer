{
 "cells": [
  {
   "cell_type": "markdown",
   "metadata": {},
   "source": [
    "# Unsupervised Machine Learning (Clustering) \n",
    "### - image processing\n",
    "### - guaranteed to converge"
   ]
  },
  {
   "cell_type": "markdown",
   "metadata": {},
   "source": [
    "1. Need package sklearn\n",
    "2. Hands on Machine Learning with Scikit-Learn, Keras & Tensorflow: Concepts, Tools, and Techniques to Buils Intelligence Systems \n",
    "    Aurilei\n",
    "3. Always start with K-Mean Clustering\n",
    "4. The only input you need is K\n",
    "5. "
   ]
  },
  {
   "cell_type": "code",
   "execution_count": 2,
   "metadata": {},
   "outputs": [],
   "source": [
    "from sklearn.cluster import KMeans"
   ]
  },
  {
   "cell_type": "markdown",
   "metadata": {},
   "source": [
    "for our purposes, we can start with k = 2 (since we suspect the outcome will be binary)"
   ]
  },
  {
   "cell_type": "markdown",
   "metadata": {},
   "source": [
    "k = 5\n",
    "kmeans = Kmeans(n_clusters=k)\n",
    "y_pred = kmeans.fit_predict(X)\n",
    "print(kmeans.cluster_centers_)\n",
    "\n",
    "X_new = np.array(\n",
    "kmeans.predict(X_new)\n",
    "\n",
    "from sklearn.metrics import silhouette_score\n",
    "silouette_score(X, kmeans.labels)"
   ]
  }
 ],
 "metadata": {
  "kernelspec": {
   "display_name": "Python 3",
   "language": "python",
   "name": "python3"
  },
  "language_info": {
   "codemirror_mode": {
    "name": "ipython",
    "version": 3
   },
   "file_extension": ".py",
   "mimetype": "text/x-python",
   "name": "python",
   "nbconvert_exporter": "python",
   "pygments_lexer": "ipython3",
   "version": "3.8.5"
  }
 },
 "nbformat": 4,
 "nbformat_minor": 4
}
