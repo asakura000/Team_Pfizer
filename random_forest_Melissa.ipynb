{
 "cells": [
  {
   "cell_type": "code",
   "execution_count": 2,
   "metadata": {},
   "outputs": [],
   "source": [
    "import pandas as pd\n",
    "import numpy as np\n",
    "import math\n",
    "\n",
    "import matplotlib.pyplot as plt\n",
    "\n",
    "import seaborn as sns\n",
    "\n",
    "sns.set()\n",
    "\n",
    "%matplotlib inline\n",
    "\n",
    "pd.set_option(\"display.max_columns\", None)"
   ]
  },
  {
   "cell_type": "code",
   "execution_count": 3,
   "metadata": {},
   "outputs": [],
   "source": [
    "from sklearn.tree import DecisionTreeClassifier\n",
    "#import altair as alt\n",
    "import sklearn.linear_model\n",
    "\n",
    "from sklearn.model_selection import train_test_split\n",
    "from sklearn.ensemble import RandomForestClassifier\n",
    "from sklearn.metrics import accuracy_score\n",
    "from sklearn.preprocessing import StandardScaler, MinMaxScaler\n",
    "import math\n",
    "import sklearn.metrics as metrics\n",
    "\n",
    "#import pandas_profiling\n",
    "\n",
    "from matplotlib import rcParams\n",
    "import warnings\n",
    "\n",
    "warnings.filterwarnings(\"ignore\")\n",
    "\n",
    "# figure size in inches\n",
    "rcParams[\"figure.figsize\"] = 10, 6\n",
    "np.random.seed(42)"
   ]
  },
  {
   "cell_type": "code",
   "execution_count": 4,
   "metadata": {},
   "outputs": [],
   "source": [
    "df = pd.read_csv('Pfizer_11-5-21.csv', converters={'POS_LEVEL1': lambda x: str(x), 'POS_LEVEL2':lambda x: str(x),\n",
    "                                          'POS_LEVEL3': lambda x: str(x), 'POS_LEVEL4': lambda x: str(x),\n",
    "                                          'POS_LEVEL5': lambda x: str(x)})"
   ]
  },
  {
   "cell_type": "code",
   "execution_count": 5,
   "metadata": {},
   "outputs": [
    {
     "data": {
      "text/html": [
       "<div>\n",
       "<style scoped>\n",
       "    .dataframe tbody tr th:only-of-type {\n",
       "        vertical-align: middle;\n",
       "    }\n",
       "\n",
       "    .dataframe tbody tr th {\n",
       "        vertical-align: top;\n",
       "    }\n",
       "\n",
       "    .dataframe thead th {\n",
       "        text-align: right;\n",
       "    }\n",
       "</style>\n",
       "<table border=\"1\" class=\"dataframe\">\n",
       "  <thead>\n",
       "    <tr style=\"text-align: right;\">\n",
       "      <th></th>\n",
       "      <th>RandomID</th>\n",
       "      <th>POS_LEVEL1</th>\n",
       "      <th>POS_LEVEL2</th>\n",
       "      <th>POS_LEVEL3</th>\n",
       "      <th>POS_LEVEL4</th>\n",
       "      <th>POS_LEVEL5</th>\n",
       "      <th>POSITIONLVL</th>\n",
       "      <th>DEPARTMENT</th>\n",
       "      <th>DEPTCD</th>\n",
       "      <th>RPTG_DIV_MAPPING</th>\n",
       "      <th>REGION</th>\n",
       "      <th>COUNTRY</th>\n",
       "      <th>LOCATION</th>\n",
       "      <th>JOB_FUNCTION</th>\n",
       "      <th>JOBSUBFUNCTION</th>\n",
       "      <th>LGTHOFSVC</th>\n",
       "      <th>TIMEINJOB</th>\n",
       "      <th>TIMEINPOSITION</th>\n",
       "      <th>COMPARATIO</th>\n",
       "      <th>GLBLDEPTLVL03</th>\n",
       "      <th>GLBLDEPTLVL04</th>\n",
       "      <th>GLBLDEPTLVL05</th>\n",
       "      <th>GLBLDEPTLVL06</th>\n",
       "      <th>Month_Year</th>\n",
       "      <th>CALYRMO</th>\n",
       "      <th>CATEGORY</th>\n",
       "      <th>VOL_INVOL</th>\n",
       "      <th>ACTIONDT</th>\n",
       "      <th>ACTION</th>\n",
       "      <th>ACTIONCD</th>\n",
       "      <th>REASON</th>\n",
       "      <th>RSNCD</th>\n",
       "      <th>Status</th>\n",
       "      <th>Country.Level.Manufacturing</th>\n",
       "      <th>Country.Level.Sales</th>\n",
       "      <th>Country.Level.R.D</th>\n",
       "      <th>Country.Level.Finance</th>\n",
       "      <th>Country.Level.Legal</th>\n",
       "      <th>Country.Level.HR</th>\n",
       "      <th>Country.Level.IT</th>\n",
       "      <th>Country.Level.Pharma.Other</th>\n",
       "      <th>Country.Level.Cost.of.Living.Index</th>\n",
       "      <th>Country.Level.Traffic.Index</th>\n",
       "      <th>Country.Level.Time.Index..in.minutes.</th>\n",
       "      <th>Country.Level.Time.Ex.Index</th>\n",
       "      <th>Country.Level.Inefficiencies.Index</th>\n",
       "      <th>Country.Level.Unemployment.Rate....</th>\n",
       "      <th>Country.Level.Corruption.Perception.Index</th>\n",
       "      <th>Country.Level.Inflation....</th>\n",
       "      <th>Country.Level.GDP..nominal...in.USD.billion.</th>\n",
       "      <th>Country.Level.Pharma.Industry.Growth</th>\n",
       "      <th>Country.Level.Labor.Market.Risk.Index.Score</th>\n",
       "      <th>Country.Level.Political.Risk.Index.Score</th>\n",
       "      <th>Country.Level.Power.distance</th>\n",
       "      <th>Country.Level.Individualism</th>\n",
       "      <th>Country.Level.Masculinity</th>\n",
       "      <th>Country.Level.Uncertainty.avoidance</th>\n",
       "      <th>Country.Level.Long.term.orientation</th>\n",
       "      <th>Country.Level.Indulgence</th>\n",
       "      <th>COMPARATIO_IMPUTED</th>\n",
       "      <th>demand_press</th>\n",
       "    </tr>\n",
       "  </thead>\n",
       "  <tbody>\n",
       "    <tr>\n",
       "      <th>0</th>\n",
       "      <td>119341</td>\n",
       "      <td>00026264</td>\n",
       "      <td>10152554</td>\n",
       "      <td>10158817</td>\n",
       "      <td>10645908</td>\n",
       "      <td>10708518</td>\n",
       "      <td>5.0</td>\n",
       "      <td>Corporate Tax</td>\n",
       "      <td>800399</td>\n",
       "      <td>Global Operations</td>\n",
       "      <td>North America</td>\n",
       "      <td>United States</td>\n",
       "      <td>Peapack New Jersey</td>\n",
       "      <td>Global Operations</td>\n",
       "      <td>Global Operations</td>\n",
       "      <td>29.555099</td>\n",
       "      <td>2.587269</td>\n",
       "      <td>2.587269</td>\n",
       "      <td>1.190823</td>\n",
       "      <td>Finance &amp; Business Ops</td>\n",
       "      <td>Finance</td>\n",
       "      <td>Corporate Tax</td>\n",
       "      <td>NaN</td>\n",
       "      <td>January_2017</td>\n",
       "      <td>NaN</td>\n",
       "      <td>NaN</td>\n",
       "      <td>NaN</td>\n",
       "      <td>NaN</td>\n",
       "      <td>NaN</td>\n",
       "      <td>NaN</td>\n",
       "      <td>NaN</td>\n",
       "      <td>NaN</td>\n",
       "      <td>0</td>\n",
       "      <td>0.193002</td>\n",
       "      <td>0.197747</td>\n",
       "      <td>0.140796</td>\n",
       "      <td>0.174018</td>\n",
       "      <td>0.166108</td>\n",
       "      <td>0.178764</td>\n",
       "      <td>0.186674</td>\n",
       "      <td>0.233198</td>\n",
       "      <td>77.141081</td>\n",
       "      <td>181.42619</td>\n",
       "      <td>39.171905</td>\n",
       "      <td>2043.656667</td>\n",
       "      <td>208.704286</td>\n",
       "      <td>0.0436</td>\n",
       "      <td>74.0</td>\n",
       "      <td>0.021</td>\n",
       "      <td>19485.400</td>\n",
       "      <td>NaN</td>\n",
       "      <td>NaN</td>\n",
       "      <td>NaN</td>\n",
       "      <td>NaN</td>\n",
       "      <td>NaN</td>\n",
       "      <td>NaN</td>\n",
       "      <td>NaN</td>\n",
       "      <td>NaN</td>\n",
       "      <td>NaN</td>\n",
       "      <td>0</td>\n",
       "      <td>0.183788</td>\n",
       "    </tr>\n",
       "    <tr>\n",
       "      <th>1</th>\n",
       "      <td>134992</td>\n",
       "      <td>00026264</td>\n",
       "      <td>00047530</td>\n",
       "      <td>10551332</td>\n",
       "      <td>11241036</td>\n",
       "      <td>10233655</td>\n",
       "      <td>7.0</td>\n",
       "      <td>GSCPM</td>\n",
       "      <td>800390</td>\n",
       "      <td>Pfizer Global Supply</td>\n",
       "      <td>North America</td>\n",
       "      <td>United States</td>\n",
       "      <td>Pleasant Prairie W3 -  Hospira</td>\n",
       "      <td>Engineering</td>\n",
       "      <td>Engineering Maintenance</td>\n",
       "      <td>26.948665</td>\n",
       "      <td>0.577687</td>\n",
       "      <td>0.577687</td>\n",
       "      <td>1.278710</td>\n",
       "      <td>GSCPM</td>\n",
       "      <td>NaN</td>\n",
       "      <td>NaN</td>\n",
       "      <td>NaN</td>\n",
       "      <td>January_2017</td>\n",
       "      <td>NaN</td>\n",
       "      <td>NaN</td>\n",
       "      <td>NaN</td>\n",
       "      <td>NaN</td>\n",
       "      <td>NaN</td>\n",
       "      <td>NaN</td>\n",
       "      <td>NaN</td>\n",
       "      <td>NaN</td>\n",
       "      <td>0</td>\n",
       "      <td>0.193002</td>\n",
       "      <td>0.197747</td>\n",
       "      <td>0.140796</td>\n",
       "      <td>0.174018</td>\n",
       "      <td>0.166108</td>\n",
       "      <td>0.178764</td>\n",
       "      <td>0.186674</td>\n",
       "      <td>0.233198</td>\n",
       "      <td>77.141081</td>\n",
       "      <td>181.42619</td>\n",
       "      <td>39.171905</td>\n",
       "      <td>2043.656667</td>\n",
       "      <td>208.704286</td>\n",
       "      <td>0.0436</td>\n",
       "      <td>74.0</td>\n",
       "      <td>0.021</td>\n",
       "      <td>19485.400</td>\n",
       "      <td>NaN</td>\n",
       "      <td>NaN</td>\n",
       "      <td>NaN</td>\n",
       "      <td>NaN</td>\n",
       "      <td>NaN</td>\n",
       "      <td>NaN</td>\n",
       "      <td>NaN</td>\n",
       "      <td>NaN</td>\n",
       "      <td>NaN</td>\n",
       "      <td>1</td>\n",
       "      <td>0.193002</td>\n",
       "    </tr>\n",
       "    <tr>\n",
       "      <th>2</th>\n",
       "      <td>78068</td>\n",
       "      <td>00026264</td>\n",
       "      <td>00047530</td>\n",
       "      <td>10551332</td>\n",
       "      <td>11241036</td>\n",
       "      <td>11240229</td>\n",
       "      <td>7.0</td>\n",
       "      <td>Pfizer Global Supply</td>\n",
       "      <td>800066</td>\n",
       "      <td>Pfizer Global Supply</td>\n",
       "      <td>North America</td>\n",
       "      <td>United States</td>\n",
       "      <td>Peapack New Jersey</td>\n",
       "      <td>Logistics &amp; Supply Chain Mgmt</td>\n",
       "      <td>Supply Chain Functions</td>\n",
       "      <td>14.069815</td>\n",
       "      <td>0.060233</td>\n",
       "      <td>0.060233</td>\n",
       "      <td>0.974331</td>\n",
       "      <td>NaN</td>\n",
       "      <td>NaN</td>\n",
       "      <td>NaN</td>\n",
       "      <td>NaN</td>\n",
       "      <td>January_2017</td>\n",
       "      <td>NaN</td>\n",
       "      <td>NaN</td>\n",
       "      <td>NaN</td>\n",
       "      <td>NaN</td>\n",
       "      <td>NaN</td>\n",
       "      <td>NaN</td>\n",
       "      <td>NaN</td>\n",
       "      <td>NaN</td>\n",
       "      <td>0</td>\n",
       "      <td>0.193002</td>\n",
       "      <td>0.197747</td>\n",
       "      <td>0.140796</td>\n",
       "      <td>0.174018</td>\n",
       "      <td>0.166108</td>\n",
       "      <td>0.178764</td>\n",
       "      <td>0.186674</td>\n",
       "      <td>0.233198</td>\n",
       "      <td>77.141081</td>\n",
       "      <td>181.42619</td>\n",
       "      <td>39.171905</td>\n",
       "      <td>2043.656667</td>\n",
       "      <td>208.704286</td>\n",
       "      <td>0.0436</td>\n",
       "      <td>74.0</td>\n",
       "      <td>0.021</td>\n",
       "      <td>19485.400</td>\n",
       "      <td>NaN</td>\n",
       "      <td>NaN</td>\n",
       "      <td>NaN</td>\n",
       "      <td>NaN</td>\n",
       "      <td>NaN</td>\n",
       "      <td>NaN</td>\n",
       "      <td>NaN</td>\n",
       "      <td>NaN</td>\n",
       "      <td>NaN</td>\n",
       "      <td>0</td>\n",
       "      <td>0.193002</td>\n",
       "    </tr>\n",
       "    <tr>\n",
       "      <th>3</th>\n",
       "      <td>146210</td>\n",
       "      <td>00026264</td>\n",
       "      <td>10551122</td>\n",
       "      <td>10608626</td>\n",
       "      <td>10140857</td>\n",
       "      <td>00132102</td>\n",
       "      <td>8.0</td>\n",
       "      <td>PSSM Drug Product Supply</td>\n",
       "      <td>803386</td>\n",
       "      <td>Worldwide Research &amp; Development</td>\n",
       "      <td>North America</td>\n",
       "      <td>United States</td>\n",
       "      <td>Groton, Connecticut</td>\n",
       "      <td>Logistics &amp; Supply Chain Mgmt</td>\n",
       "      <td>Logistics &amp; Supply Chain Mgmt</td>\n",
       "      <td>14.088980</td>\n",
       "      <td>3.835729</td>\n",
       "      <td>3.835729</td>\n",
       "      <td>1.113577</td>\n",
       "      <td>Medicinal Sciences</td>\n",
       "      <td>Pharm Sci Small Molecule</td>\n",
       "      <td>PSSM Drug Product Supply</td>\n",
       "      <td>NaN</td>\n",
       "      <td>January_2017</td>\n",
       "      <td>NaN</td>\n",
       "      <td>NaN</td>\n",
       "      <td>NaN</td>\n",
       "      <td>NaN</td>\n",
       "      <td>NaN</td>\n",
       "      <td>NaN</td>\n",
       "      <td>NaN</td>\n",
       "      <td>NaN</td>\n",
       "      <td>0</td>\n",
       "      <td>0.193002</td>\n",
       "      <td>0.197747</td>\n",
       "      <td>0.140796</td>\n",
       "      <td>0.174018</td>\n",
       "      <td>0.166108</td>\n",
       "      <td>0.178764</td>\n",
       "      <td>0.186674</td>\n",
       "      <td>0.233198</td>\n",
       "      <td>77.141081</td>\n",
       "      <td>181.42619</td>\n",
       "      <td>39.171905</td>\n",
       "      <td>2043.656667</td>\n",
       "      <td>208.704286</td>\n",
       "      <td>0.0436</td>\n",
       "      <td>74.0</td>\n",
       "      <td>0.021</td>\n",
       "      <td>19485.400</td>\n",
       "      <td>NaN</td>\n",
       "      <td>NaN</td>\n",
       "      <td>NaN</td>\n",
       "      <td>NaN</td>\n",
       "      <td>NaN</td>\n",
       "      <td>NaN</td>\n",
       "      <td>NaN</td>\n",
       "      <td>NaN</td>\n",
       "      <td>NaN</td>\n",
       "      <td>0</td>\n",
       "      <td>0.140796</td>\n",
       "    </tr>\n",
       "    <tr>\n",
       "      <th>4</th>\n",
       "      <td>14471</td>\n",
       "      <td>00026264</td>\n",
       "      <td>10655662</td>\n",
       "      <td>11269189</td>\n",
       "      <td>10655733</td>\n",
       "      <td>10261243</td>\n",
       "      <td>6.0</td>\n",
       "      <td>GEP Germany</td>\n",
       "      <td>802585</td>\n",
       "      <td>Pfizer Essential Health (PEH)</td>\n",
       "      <td>Europe</td>\n",
       "      <td>Germany</td>\n",
       "      <td>Berlin</td>\n",
       "      <td>Marketing and Market Research</td>\n",
       "      <td>Product Mgmt/Brand Marketing</td>\n",
       "      <td>12.501027</td>\n",
       "      <td>6.053388</td>\n",
       "      <td>7.835729</td>\n",
       "      <td>1.060864</td>\n",
       "      <td>GEP - Europe</td>\n",
       "      <td>GEP Germany</td>\n",
       "      <td>NaN</td>\n",
       "      <td>NaN</td>\n",
       "      <td>January_2017</td>\n",
       "      <td>NaN</td>\n",
       "      <td>NaN</td>\n",
       "      <td>NaN</td>\n",
       "      <td>NaN</td>\n",
       "      <td>NaN</td>\n",
       "      <td>NaN</td>\n",
       "      <td>NaN</td>\n",
       "      <td>NaN</td>\n",
       "      <td>0</td>\n",
       "      <td>0.173282</td>\n",
       "      <td>0.177543</td>\n",
       "      <td>0.126411</td>\n",
       "      <td>0.156238</td>\n",
       "      <td>0.149136</td>\n",
       "      <td>0.160499</td>\n",
       "      <td>0.167600</td>\n",
       "      <td>0.175368</td>\n",
       "      <td>67.616667</td>\n",
       "      <td>96.49500</td>\n",
       "      <td>33.000000</td>\n",
       "      <td>321.450000</td>\n",
       "      <td>112.645000</td>\n",
       "      <td>0.0375</td>\n",
       "      <td>81.0</td>\n",
       "      <td>0.017</td>\n",
       "      <td>3700.613</td>\n",
       "      <td>0.048928</td>\n",
       "      <td>NaN</td>\n",
       "      <td>NaN</td>\n",
       "      <td>NaN</td>\n",
       "      <td>NaN</td>\n",
       "      <td>NaN</td>\n",
       "      <td>NaN</td>\n",
       "      <td>NaN</td>\n",
       "      <td>NaN</td>\n",
       "      <td>1</td>\n",
       "      <td>0.177543</td>\n",
       "    </tr>\n",
       "  </tbody>\n",
       "</table>\n",
       "</div>"
      ],
      "text/plain": [
       "   RandomID POS_LEVEL1 POS_LEVEL2 POS_LEVEL3 POS_LEVEL4 POS_LEVEL5  \\\n",
       "0    119341   00026264   10152554   10158817   10645908   10708518   \n",
       "1    134992   00026264   00047530   10551332   11241036   10233655   \n",
       "2     78068   00026264   00047530   10551332   11241036   11240229   \n",
       "3    146210   00026264   10551122   10608626   10140857   00132102   \n",
       "4     14471   00026264   10655662   11269189   10655733   10261243   \n",
       "\n",
       "   POSITIONLVL                DEPARTMENT  DEPTCD  \\\n",
       "0          5.0             Corporate Tax  800399   \n",
       "1          7.0                     GSCPM  800390   \n",
       "2          7.0      Pfizer Global Supply  800066   \n",
       "3          8.0  PSSM Drug Product Supply  803386   \n",
       "4          6.0               GEP Germany  802585   \n",
       "\n",
       "                   RPTG_DIV_MAPPING         REGION        COUNTRY  \\\n",
       "0                 Global Operations  North America  United States   \n",
       "1              Pfizer Global Supply  North America  United States   \n",
       "2              Pfizer Global Supply  North America  United States   \n",
       "3  Worldwide Research & Development  North America  United States   \n",
       "4     Pfizer Essential Health (PEH)         Europe        Germany   \n",
       "\n",
       "                         LOCATION                   JOB_FUNCTION  \\\n",
       "0              Peapack New Jersey              Global Operations   \n",
       "1  Pleasant Prairie W3 -  Hospira                    Engineering   \n",
       "2              Peapack New Jersey  Logistics & Supply Chain Mgmt   \n",
       "3             Groton, Connecticut  Logistics & Supply Chain Mgmt   \n",
       "4                          Berlin  Marketing and Market Research   \n",
       "\n",
       "                  JOBSUBFUNCTION  LGTHOFSVC  TIMEINJOB  TIMEINPOSITION  \\\n",
       "0              Global Operations  29.555099   2.587269        2.587269   \n",
       "1        Engineering Maintenance  26.948665   0.577687        0.577687   \n",
       "2         Supply Chain Functions  14.069815   0.060233        0.060233   \n",
       "3  Logistics & Supply Chain Mgmt  14.088980   3.835729        3.835729   \n",
       "4   Product Mgmt/Brand Marketing  12.501027   6.053388        7.835729   \n",
       "\n",
       "   COMPARATIO           GLBLDEPTLVL03             GLBLDEPTLVL04  \\\n",
       "0    1.190823  Finance & Business Ops                   Finance   \n",
       "1    1.278710                   GSCPM                       NaN   \n",
       "2    0.974331                     NaN                       NaN   \n",
       "3    1.113577      Medicinal Sciences  Pharm Sci Small Molecule   \n",
       "4    1.060864            GEP - Europe               GEP Germany   \n",
       "\n",
       "              GLBLDEPTLVL05 GLBLDEPTLVL06    Month_Year  CALYRMO CATEGORY  \\\n",
       "0             Corporate Tax           NaN  January_2017      NaN      NaN   \n",
       "1                       NaN           NaN  January_2017      NaN      NaN   \n",
       "2                       NaN           NaN  January_2017      NaN      NaN   \n",
       "3  PSSM Drug Product Supply           NaN  January_2017      NaN      NaN   \n",
       "4                       NaN           NaN  January_2017      NaN      NaN   \n",
       "\n",
       "  VOL_INVOL ACTIONDT ACTION ACTIONCD REASON RSNCD  Status  \\\n",
       "0       NaN      NaN    NaN      NaN    NaN   NaN       0   \n",
       "1       NaN      NaN    NaN      NaN    NaN   NaN       0   \n",
       "2       NaN      NaN    NaN      NaN    NaN   NaN       0   \n",
       "3       NaN      NaN    NaN      NaN    NaN   NaN       0   \n",
       "4       NaN      NaN    NaN      NaN    NaN   NaN       0   \n",
       "\n",
       "   Country.Level.Manufacturing  Country.Level.Sales  Country.Level.R.D  \\\n",
       "0                     0.193002             0.197747           0.140796   \n",
       "1                     0.193002             0.197747           0.140796   \n",
       "2                     0.193002             0.197747           0.140796   \n",
       "3                     0.193002             0.197747           0.140796   \n",
       "4                     0.173282             0.177543           0.126411   \n",
       "\n",
       "   Country.Level.Finance  Country.Level.Legal  Country.Level.HR  \\\n",
       "0               0.174018             0.166108          0.178764   \n",
       "1               0.174018             0.166108          0.178764   \n",
       "2               0.174018             0.166108          0.178764   \n",
       "3               0.174018             0.166108          0.178764   \n",
       "4               0.156238             0.149136          0.160499   \n",
       "\n",
       "   Country.Level.IT  Country.Level.Pharma.Other  \\\n",
       "0          0.186674                    0.233198   \n",
       "1          0.186674                    0.233198   \n",
       "2          0.186674                    0.233198   \n",
       "3          0.186674                    0.233198   \n",
       "4          0.167600                    0.175368   \n",
       "\n",
       "   Country.Level.Cost.of.Living.Index  Country.Level.Traffic.Index  \\\n",
       "0                           77.141081                    181.42619   \n",
       "1                           77.141081                    181.42619   \n",
       "2                           77.141081                    181.42619   \n",
       "3                           77.141081                    181.42619   \n",
       "4                           67.616667                     96.49500   \n",
       "\n",
       "   Country.Level.Time.Index..in.minutes.  Country.Level.Time.Ex.Index  \\\n",
       "0                              39.171905                  2043.656667   \n",
       "1                              39.171905                  2043.656667   \n",
       "2                              39.171905                  2043.656667   \n",
       "3                              39.171905                  2043.656667   \n",
       "4                              33.000000                   321.450000   \n",
       "\n",
       "   Country.Level.Inefficiencies.Index  Country.Level.Unemployment.Rate....  \\\n",
       "0                          208.704286                               0.0436   \n",
       "1                          208.704286                               0.0436   \n",
       "2                          208.704286                               0.0436   \n",
       "3                          208.704286                               0.0436   \n",
       "4                          112.645000                               0.0375   \n",
       "\n",
       "   Country.Level.Corruption.Perception.Index  Country.Level.Inflation....  \\\n",
       "0                                       74.0                        0.021   \n",
       "1                                       74.0                        0.021   \n",
       "2                                       74.0                        0.021   \n",
       "3                                       74.0                        0.021   \n",
       "4                                       81.0                        0.017   \n",
       "\n",
       "   Country.Level.GDP..nominal...in.USD.billion.  \\\n",
       "0                                     19485.400   \n",
       "1                                     19485.400   \n",
       "2                                     19485.400   \n",
       "3                                     19485.400   \n",
       "4                                      3700.613   \n",
       "\n",
       "   Country.Level.Pharma.Industry.Growth  \\\n",
       "0                                   NaN   \n",
       "1                                   NaN   \n",
       "2                                   NaN   \n",
       "3                                   NaN   \n",
       "4                              0.048928   \n",
       "\n",
       "   Country.Level.Labor.Market.Risk.Index.Score  \\\n",
       "0                                          NaN   \n",
       "1                                          NaN   \n",
       "2                                          NaN   \n",
       "3                                          NaN   \n",
       "4                                          NaN   \n",
       "\n",
       "   Country.Level.Political.Risk.Index.Score  Country.Level.Power.distance  \\\n",
       "0                                       NaN                           NaN   \n",
       "1                                       NaN                           NaN   \n",
       "2                                       NaN                           NaN   \n",
       "3                                       NaN                           NaN   \n",
       "4                                       NaN                           NaN   \n",
       "\n",
       "   Country.Level.Individualism  Country.Level.Masculinity  \\\n",
       "0                          NaN                        NaN   \n",
       "1                          NaN                        NaN   \n",
       "2                          NaN                        NaN   \n",
       "3                          NaN                        NaN   \n",
       "4                          NaN                        NaN   \n",
       "\n",
       "   Country.Level.Uncertainty.avoidance  Country.Level.Long.term.orientation  \\\n",
       "0                                  NaN                                  NaN   \n",
       "1                                  NaN                                  NaN   \n",
       "2                                  NaN                                  NaN   \n",
       "3                                  NaN                                  NaN   \n",
       "4                                  NaN                                  NaN   \n",
       "\n",
       "   Country.Level.Indulgence  COMPARATIO_IMPUTED  demand_press  \n",
       "0                       NaN                   0      0.183788  \n",
       "1                       NaN                   1      0.193002  \n",
       "2                       NaN                   0      0.193002  \n",
       "3                       NaN                   0      0.140796  \n",
       "4                       NaN                   1      0.177543  "
      ]
     },
     "execution_count": 5,
     "metadata": {},
     "output_type": "execute_result"
    }
   ],
   "source": [
    "df.head()"
   ]
  },
  {
   "cell_type": "code",
   "execution_count": 6,
   "metadata": {},
   "outputs": [],
   "source": [
    "df = df.drop(columns=['CALYRMO', 'CATEGORY', 'VOL_INVOL', 'ACTIONDT', 'ACTION', 'ACTIONCD', 'REASON', 'RSNCD'])"
   ]
  },
  {
   "cell_type": "code",
   "execution_count": 7,
   "metadata": {},
   "outputs": [],
   "source": [
    "df = df.dropna()"
   ]
  },
  {
   "cell_type": "code",
   "execution_count": 8,
   "metadata": {},
   "outputs": [
    {
     "data": {
      "text/plain": [
       "(279505, 53)"
      ]
     },
     "execution_count": 8,
     "metadata": {},
     "output_type": "execute_result"
    }
   ],
   "source": [
    "df.shape"
   ]
  },
  {
   "cell_type": "code",
   "execution_count": 9,
   "metadata": {},
   "outputs": [
    {
     "data": {
      "text/plain": [
       "Index(['RandomID', 'POS_LEVEL1', 'POS_LEVEL2', 'POS_LEVEL3', 'POS_LEVEL4',\n",
       "       'POS_LEVEL5', 'POSITIONLVL', 'DEPARTMENT', 'DEPTCD', 'RPTG_DIV_MAPPING',\n",
       "       'REGION', 'COUNTRY', 'LOCATION', 'JOB_FUNCTION', 'JOBSUBFUNCTION',\n",
       "       'LGTHOFSVC', 'TIMEINJOB', 'TIMEINPOSITION', 'COMPARATIO',\n",
       "       'GLBLDEPTLVL03', 'GLBLDEPTLVL04', 'GLBLDEPTLVL05', 'GLBLDEPTLVL06',\n",
       "       'Month_Year', 'Status', 'Country.Level.Manufacturing',\n",
       "       'Country.Level.Sales', 'Country.Level.R.D', 'Country.Level.Finance',\n",
       "       'Country.Level.Legal', 'Country.Level.HR', 'Country.Level.IT',\n",
       "       'Country.Level.Pharma.Other', 'Country.Level.Cost.of.Living.Index',\n",
       "       'Country.Level.Traffic.Index', 'Country.Level.Time.Index..in.minutes.',\n",
       "       'Country.Level.Time.Ex.Index', 'Country.Level.Inefficiencies.Index',\n",
       "       'Country.Level.Unemployment.Rate....',\n",
       "       'Country.Level.Corruption.Perception.Index',\n",
       "       'Country.Level.Inflation....',\n",
       "       'Country.Level.GDP..nominal...in.USD.billion.',\n",
       "       'Country.Level.Pharma.Industry.Growth',\n",
       "       'Country.Level.Labor.Market.Risk.Index.Score',\n",
       "       'Country.Level.Political.Risk.Index.Score',\n",
       "       'Country.Level.Power.distance', 'Country.Level.Individualism',\n",
       "       'Country.Level.Masculinity', 'Country.Level.Uncertainty.avoidance',\n",
       "       'Country.Level.Long.term.orientation', 'Country.Level.Indulgence',\n",
       "       'COMPARATIO_IMPUTED', 'demand_press'],\n",
       "      dtype='object')"
      ]
     },
     "execution_count": 9,
     "metadata": {},
     "output_type": "execute_result"
    }
   ],
   "source": [
    "df.columns"
   ]
  },
  {
   "cell_type": "code",
   "execution_count": 10,
   "metadata": {},
   "outputs": [],
   "source": [
    "chosen_vars = ['POSITIONLVL','COMPARATIO','LGTHOFSVC', 'TIMEINJOB', 'TIMEINPOSITION', 'DEPTCD', \n",
    "               'Country.Level.Cost.of.Living.Index',\n",
    "       'Country.Level.Traffic.Index', 'Country.Level.Time.Index..in.minutes.',\n",
    "       'Country.Level.Time.Ex.Index', 'Country.Level.Inefficiencies.Index',\n",
    "       'Country.Level.Unemployment.Rate....',\n",
    "       'Country.Level.Corruption.Perception.Index',\n",
    "       'Country.Level.Inflation....',\n",
    "       'Country.Level.GDP..nominal...in.USD.billion.',\n",
    "       'Country.Level.Pharma.Industry.Growth',\n",
    "       'Country.Level.Labor.Market.Risk.Index.Score',\n",
    "       'Country.Level.Political.Risk.Index.Score',\n",
    "       'Country.Level.Power.distance', 'Country.Level.Individualism',\n",
    "       'Country.Level.Masculinity', 'Country.Level.Uncertainty.avoidance',\n",
    "       'Country.Level.Long.term.orientation', 'Country.Level.Indulgence',\n",
    "       'COMPARATIO_IMPUTED', 'demand_press']"
   ]
  },
  {
   "cell_type": "code",
   "execution_count": 28,
   "metadata": {},
   "outputs": [
    {
     "data": {
      "text/plain": [
       "(279505, 53)"
      ]
     },
     "execution_count": 28,
     "metadata": {},
     "output_type": "execute_result"
    }
   ],
   "source": [
    "df.shape"
   ]
  },
  {
   "cell_type": "code",
   "execution_count": 29,
   "metadata": {},
   "outputs": [],
   "source": [
    "X = df[chosen_vars]\n",
    "y = df['Status']"
   ]
  },
  {
   "cell_type": "code",
   "execution_count": 43,
   "metadata": {},
   "outputs": [
    {
     "data": {
      "text/plain": [
       "279505"
      ]
     },
     "execution_count": 43,
     "metadata": {},
     "output_type": "execute_result"
    }
   ],
   "source": [
    "len(y)"
   ]
  },
  {
   "cell_type": "code",
   "execution_count": 63,
   "metadata": {},
   "outputs": [
    {
     "data": {
      "text/plain": [
       "(279505, 53)"
      ]
     },
     "execution_count": 63,
     "metadata": {},
     "output_type": "execute_result"
    }
   ],
   "source": [
    "df.shape"
   ]
  },
  {
   "cell_type": "code",
   "execution_count": 66,
   "metadata": {},
   "outputs": [
    {
     "data": {
      "text/plain": [
       "139752.5"
      ]
     },
     "execution_count": 66,
     "metadata": {},
     "output_type": "execute_result"
    }
   ],
   "source": [
    "target = 279505/2 \n",
    "target"
   ]
  },
  {
   "cell_type": "code",
   "execution_count": 69,
   "metadata": {},
   "outputs": [],
   "source": [
    "cond = df['Status'] == 1\n",
    "nbr_left = len(df[cond])"
   ]
  },
  {
   "cell_type": "code",
   "execution_count": 71,
   "metadata": {},
   "outputs": [
    {
     "data": {
      "text/plain": [
       "807.8179190751445"
      ]
     },
     "execution_count": 71,
     "metadata": {},
     "output_type": "execute_result"
    }
   ],
   "source": [
    "weight = target / nbr_left\n",
    "weight"
   ]
  },
  {
   "cell_type": "code",
   "execution_count": 72,
   "metadata": {},
   "outputs": [],
   "source": [
    "scaler = StandardScaler()\n",
    "X_scaled = scaler.fit_transform(X)"
   ]
  },
  {
   "cell_type": "code",
   "execution_count": 85,
   "metadata": {},
   "outputs": [],
   "source": [
    "X_train, X_test, y_train, y_test = train_test_split(\n",
    "    X, y, test_size=0.1, random_state=42)"
   ]
  },
  {
   "cell_type": "code",
   "execution_count": 86,
   "metadata": {},
   "outputs": [
    {
     "data": {
      "text/plain": [
       "(251554, 26)"
      ]
     },
     "execution_count": 86,
     "metadata": {},
     "output_type": "execute_result"
    }
   ],
   "source": [
    "X_train.shape"
   ]
  },
  {
   "cell_type": "code",
   "execution_count": 88,
   "metadata": {},
   "outputs": [],
   "source": [
    "target = 251554 / 2"
   ]
  },
  {
   "cell_type": "code",
   "execution_count": 105,
   "metadata": {},
   "outputs": [
    {
     "data": {
      "text/plain": [
       "791.0503144654089"
      ]
     },
     "execution_count": 105,
     "metadata": {},
     "output_type": "execute_result"
    }
   ],
   "source": [
    "target / 159"
   ]
  },
  {
   "cell_type": "code",
   "execution_count": 93,
   "metadata": {},
   "outputs": [
    {
     "data": {
      "text/plain": [
       "3985125    0\n",
       "3087066    0\n",
       "2474550    0\n",
       "3326037    0\n",
       "2615728    0\n",
       "Name: Status, dtype: int64"
      ]
     },
     "execution_count": 93,
     "metadata": {},
     "output_type": "execute_result"
    }
   ],
   "source": [
    "y_train.head()"
   ]
  },
  {
   "cell_type": "code",
   "execution_count": 106,
   "metadata": {},
   "outputs": [
    {
     "data": {
      "text/plain": [
       "159"
      ]
     },
     "execution_count": 106,
     "metadata": {},
     "output_type": "execute_result"
    }
   ],
   "source": [
    "count = np.count_nonzero(y_train)\n",
    "count"
   ]
  },
  {
   "cell_type": "code",
   "execution_count": 107,
   "metadata": {},
   "outputs": [],
   "source": [
    "model = RandomForestClassifier(n_estimators = 100)"
   ]
  },
  {
   "cell_type": "code",
   "execution_count": 108,
   "metadata": {},
   "outputs": [],
   "source": [
    "sample_weight = np.array([790 if i == 1 else 1 for i in y_train])"
   ]
  },
  {
   "cell_type": "code",
   "execution_count": 109,
   "metadata": {},
   "outputs": [
    {
     "data": {
      "text/plain": [
       "RandomForestClassifier()"
      ]
     },
     "execution_count": 109,
     "metadata": {},
     "output_type": "execute_result"
    }
   ],
   "source": [
    "model.fit(X_train, y_train,\n",
    "         sample_weight = sample_weight)"
   ]
  },
  {
   "cell_type": "code",
   "execution_count": 110,
   "metadata": {},
   "outputs": [],
   "source": [
    "y_pred = model.predict(X_test)"
   ]
  },
  {
   "cell_type": "code",
   "execution_count": 111,
   "metadata": {},
   "outputs": [
    {
     "name": "stdout",
     "output_type": "stream",
     "text": [
      "Accuracy: 0.9994991234660656\n"
     ]
    }
   ],
   "source": [
    "print(\"Accuracy:\", accuracy_score(y_test, y_pred))"
   ]
  },
  {
   "cell_type": "code",
   "execution_count": 112,
   "metadata": {},
   "outputs": [
    {
     "name": "stdout",
     "output_type": "stream",
     "text": [
      "============\n",
      "MAE:                 0.0005008765339343851\n",
      "RMSE:                0.022380271087151404\n",
      "r2:                  0.9999320226829573\n",
      "feature_importances: [0.04012123 0.11051603 0.13133558 0.1068023  0.11716656 0.06657393\n",
      " 0.04308151 0.01846734 0.04270696 0.04041974 0.01056931 0.01054468\n",
      " 0.00830271 0.0984244  0.03969707 0.0275451  0.00795639 0.02020839\n",
      " 0.00284942 0.00650292 0.00238277 0.00167709 0.00273828 0.00292378\n",
      " 0.00910151 0.03138501]\n",
      "n_features:          26\n",
      "n_outputs:           1\n"
     ]
    }
   ],
   "source": [
    "y_hat = y_pred\n",
    "mae = metrics.mean_absolute_error(y_test,y_hat)\n",
    "mse = metrics.mean_squared_error(y_test,y_hat)\n",
    "#print (\"TRAINING SET\")\n",
    "print (\"============\")\n",
    "print (\"MAE:                \", mae)\n",
    "print (\"RMSE:               \", math.sqrt(mse))\n",
    "print (\"r2:                 \", model.score(X,y))\n",
    "print (\"feature_importances:\",model.feature_importances_)\n",
    "print (\"n_features:         \",model.n_features_)\n",
    "print (\"n_outputs:          \",model.n_outputs_)\n",
    "#print (\"last column (% Iron Concentrate) is the highest feature_importances\")"
   ]
  },
  {
   "cell_type": "code",
   "execution_count": 113,
   "metadata": {},
   "outputs": [],
   "source": [
    "importance = model.feature_importances_"
   ]
  },
  {
   "cell_type": "code",
   "execution_count": 114,
   "metadata": {},
   "outputs": [],
   "source": [
    "# for i,v in enumerate(importance):\n",
    "#     print('Feature: %0d, Score: %.5f' % (i,v))"
   ]
  },
  {
   "cell_type": "code",
   "execution_count": 115,
   "metadata": {},
   "outputs": [],
   "source": [
    "feature_importances_df = pd.DataFrame(\n",
    "    {\"feature\": list(X.columns), \"importance\": model.feature_importances_}\n",
    ").sort_values(\"importance\", ascending=False)"
   ]
  },
  {
   "cell_type": "code",
   "execution_count": 116,
   "metadata": {},
   "outputs": [
    {
     "data": {
      "text/html": [
       "<div>\n",
       "<style scoped>\n",
       "    .dataframe tbody tr th:only-of-type {\n",
       "        vertical-align: middle;\n",
       "    }\n",
       "\n",
       "    .dataframe tbody tr th {\n",
       "        vertical-align: top;\n",
       "    }\n",
       "\n",
       "    .dataframe thead th {\n",
       "        text-align: right;\n",
       "    }\n",
       "</style>\n",
       "<table border=\"1\" class=\"dataframe\">\n",
       "  <thead>\n",
       "    <tr style=\"text-align: right;\">\n",
       "      <th></th>\n",
       "      <th>feature</th>\n",
       "      <th>importance</th>\n",
       "    </tr>\n",
       "  </thead>\n",
       "  <tbody>\n",
       "    <tr>\n",
       "      <th>2</th>\n",
       "      <td>LGTHOFSVC</td>\n",
       "      <td>0.131336</td>\n",
       "    </tr>\n",
       "    <tr>\n",
       "      <th>4</th>\n",
       "      <td>TIMEINPOSITION</td>\n",
       "      <td>0.117167</td>\n",
       "    </tr>\n",
       "    <tr>\n",
       "      <th>1</th>\n",
       "      <td>COMPARATIO</td>\n",
       "      <td>0.110516</td>\n",
       "    </tr>\n",
       "    <tr>\n",
       "      <th>3</th>\n",
       "      <td>TIMEINJOB</td>\n",
       "      <td>0.106802</td>\n",
       "    </tr>\n",
       "    <tr>\n",
       "      <th>13</th>\n",
       "      <td>Country.Level.Inflation....</td>\n",
       "      <td>0.098424</td>\n",
       "    </tr>\n",
       "    <tr>\n",
       "      <th>5</th>\n",
       "      <td>DEPTCD</td>\n",
       "      <td>0.066574</td>\n",
       "    </tr>\n",
       "    <tr>\n",
       "      <th>6</th>\n",
       "      <td>Country.Level.Cost.of.Living.Index</td>\n",
       "      <td>0.043082</td>\n",
       "    </tr>\n",
       "    <tr>\n",
       "      <th>8</th>\n",
       "      <td>Country.Level.Time.Index..in.minutes.</td>\n",
       "      <td>0.042707</td>\n",
       "    </tr>\n",
       "    <tr>\n",
       "      <th>9</th>\n",
       "      <td>Country.Level.Time.Ex.Index</td>\n",
       "      <td>0.040420</td>\n",
       "    </tr>\n",
       "    <tr>\n",
       "      <th>0</th>\n",
       "      <td>POSITIONLVL</td>\n",
       "      <td>0.040121</td>\n",
       "    </tr>\n",
       "    <tr>\n",
       "      <th>14</th>\n",
       "      <td>Country.Level.GDP..nominal...in.USD.billion.</td>\n",
       "      <td>0.039697</td>\n",
       "    </tr>\n",
       "    <tr>\n",
       "      <th>25</th>\n",
       "      <td>demand_press</td>\n",
       "      <td>0.031385</td>\n",
       "    </tr>\n",
       "    <tr>\n",
       "      <th>15</th>\n",
       "      <td>Country.Level.Pharma.Industry.Growth</td>\n",
       "      <td>0.027545</td>\n",
       "    </tr>\n",
       "    <tr>\n",
       "      <th>17</th>\n",
       "      <td>Country.Level.Political.Risk.Index.Score</td>\n",
       "      <td>0.020208</td>\n",
       "    </tr>\n",
       "    <tr>\n",
       "      <th>7</th>\n",
       "      <td>Country.Level.Traffic.Index</td>\n",
       "      <td>0.018467</td>\n",
       "    </tr>\n",
       "    <tr>\n",
       "      <th>10</th>\n",
       "      <td>Country.Level.Inefficiencies.Index</td>\n",
       "      <td>0.010569</td>\n",
       "    </tr>\n",
       "    <tr>\n",
       "      <th>11</th>\n",
       "      <td>Country.Level.Unemployment.Rate....</td>\n",
       "      <td>0.010545</td>\n",
       "    </tr>\n",
       "    <tr>\n",
       "      <th>24</th>\n",
       "      <td>COMPARATIO_IMPUTED</td>\n",
       "      <td>0.009102</td>\n",
       "    </tr>\n",
       "    <tr>\n",
       "      <th>12</th>\n",
       "      <td>Country.Level.Corruption.Perception.Index</td>\n",
       "      <td>0.008303</td>\n",
       "    </tr>\n",
       "    <tr>\n",
       "      <th>16</th>\n",
       "      <td>Country.Level.Labor.Market.Risk.Index.Score</td>\n",
       "      <td>0.007956</td>\n",
       "    </tr>\n",
       "    <tr>\n",
       "      <th>19</th>\n",
       "      <td>Country.Level.Individualism</td>\n",
       "      <td>0.006503</td>\n",
       "    </tr>\n",
       "    <tr>\n",
       "      <th>23</th>\n",
       "      <td>Country.Level.Indulgence</td>\n",
       "      <td>0.002924</td>\n",
       "    </tr>\n",
       "    <tr>\n",
       "      <th>18</th>\n",
       "      <td>Country.Level.Power.distance</td>\n",
       "      <td>0.002849</td>\n",
       "    </tr>\n",
       "    <tr>\n",
       "      <th>22</th>\n",
       "      <td>Country.Level.Long.term.orientation</td>\n",
       "      <td>0.002738</td>\n",
       "    </tr>\n",
       "    <tr>\n",
       "      <th>20</th>\n",
       "      <td>Country.Level.Masculinity</td>\n",
       "      <td>0.002383</td>\n",
       "    </tr>\n",
       "    <tr>\n",
       "      <th>21</th>\n",
       "      <td>Country.Level.Uncertainty.avoidance</td>\n",
       "      <td>0.001677</td>\n",
       "    </tr>\n",
       "  </tbody>\n",
       "</table>\n",
       "</div>"
      ],
      "text/plain": [
       "                                         feature  importance\n",
       "2                                      LGTHOFSVC    0.131336\n",
       "4                                 TIMEINPOSITION    0.117167\n",
       "1                                     COMPARATIO    0.110516\n",
       "3                                      TIMEINJOB    0.106802\n",
       "13                   Country.Level.Inflation....    0.098424\n",
       "5                                         DEPTCD    0.066574\n",
       "6             Country.Level.Cost.of.Living.Index    0.043082\n",
       "8          Country.Level.Time.Index..in.minutes.    0.042707\n",
       "9                    Country.Level.Time.Ex.Index    0.040420\n",
       "0                                    POSITIONLVL    0.040121\n",
       "14  Country.Level.GDP..nominal...in.USD.billion.    0.039697\n",
       "25                                  demand_press    0.031385\n",
       "15          Country.Level.Pharma.Industry.Growth    0.027545\n",
       "17      Country.Level.Political.Risk.Index.Score    0.020208\n",
       "7                    Country.Level.Traffic.Index    0.018467\n",
       "10            Country.Level.Inefficiencies.Index    0.010569\n",
       "11           Country.Level.Unemployment.Rate....    0.010545\n",
       "24                            COMPARATIO_IMPUTED    0.009102\n",
       "12     Country.Level.Corruption.Perception.Index    0.008303\n",
       "16   Country.Level.Labor.Market.Risk.Index.Score    0.007956\n",
       "19                   Country.Level.Individualism    0.006503\n",
       "23                      Country.Level.Indulgence    0.002924\n",
       "18                  Country.Level.Power.distance    0.002849\n",
       "22           Country.Level.Long.term.orientation    0.002738\n",
       "20                     Country.Level.Masculinity    0.002383\n",
       "21           Country.Level.Uncertainty.avoidance    0.001677"
      ]
     },
     "execution_count": 116,
     "metadata": {},
     "output_type": "execute_result"
    }
   ],
   "source": [
    "feature_importances_df"
   ]
  },
  {
   "cell_type": "code",
   "execution_count": null,
   "metadata": {},
   "outputs": [],
   "source": []
  }
 ],
 "metadata": {
  "kernelspec": {
   "display_name": "Python 3 (ipykernel)",
   "language": "python",
   "name": "python3"
  },
  "language_info": {
   "codemirror_mode": {
    "name": "ipython",
    "version": 3
   },
   "file_extension": ".py",
   "mimetype": "text/x-python",
   "name": "python",
   "nbconvert_exporter": "python",
   "pygments_lexer": "ipython3",
   "version": "3.8.5"
  }
 },
 "nbformat": 4,
 "nbformat_minor": 4
}
